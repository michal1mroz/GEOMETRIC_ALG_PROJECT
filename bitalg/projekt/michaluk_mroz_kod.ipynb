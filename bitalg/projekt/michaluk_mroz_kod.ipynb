{
 "cells": [
  {
   "cell_type": "markdown",
   "id": "be0323fb",
   "metadata": {},
   "source": [
    "# Lokalizacja punktu w przestrzeni dwuwymiarowej – metoda trapezowa "
   ]
  },
  {
   "cell_type": "markdown",
   "id": "b303b4f9",
   "metadata": {},
   "source": [
    "## Wprowadzenie do problemu lokalizacji punktu na płaszczyźnie\n",
    "### Dane:\n",
    "Poligonowy podział płaszczyzny (tzw. podział planarny) $S$. Należy go przetworzyć (zapisując wyniki w odpowiedniej strukturze\n",
    "danych) tak, aby umożliwić efektywne osiągnięcie celu.\n",
    "### Cel:\n",
    "Odszukanie wielokąta (ściany) zawierającego zadany punkt.\n",
    "\n",
    "Możliwa jest sytuacja, że zadany punkt nie leży wewnątrz żadnej ze ścian. Aby uwzględnić taki przypadek, umieszczamy nasz podział w odpowiednio dużym prostokącie $R$. Wtedy w razie takiej sytuacji wskażemy obszar wyznaczony przez ten prostokąt."
   ]
  },
  {
   "cell_type": "markdown",
   "id": "1774b687",
   "metadata": {},
   "source": [
    "## Metoda trapezowa\n",
    "W przypadku podejścia do rozwiązania przedstawionego powyżej problemu metodą trapezową, podział płaszczyzny będzie reprezentowany przez zbiór odcinków $S$={$s$<sub>1</sub>,$s$<sub>2</sub>,...,$s$<sub>n</sub>}. Poczynione założenia:\n",
    "- odcinki nie przecinają się, poza ewentualnie wierzchołkami\n",
    "- żaden odcinek nie jest pionowy\n",
    "- wierzchołki żadnych dwóch odcinków nie mają takiej samej współrzędnej x (poza końcami połączonych odcinków)\n",
    "\n",
    "Drugie i trzecie założenie wskazują na to, że zbiór odcinków $S$ jest w położeniu ogólnym.\n",
    "\n",
    "### Mapa trapezowa\n",
    "Mapa trapezowa $T$($S$) jest podziałem $S$ na wielokąty wypukłe (trapezy lub trójkąty; będziemy je nazywać *trapezami*, traktując trójkąt jako zdegenerowany trapez, w którym jeden z boków zredukował się do zera) otrzymanym przez poprowadzenie dwóch rozszerzeń (odcinków) pionowych z każdego końca odcinka w $S$. Rozszerzenia kończą się, gdy napotkają inny odcinek $S$ lub\n",
    "brzeg prostokąta (ramki) $R$. "
   ]
  },
  {
   "cell_type": "markdown",
   "id": "ef649b4d",
   "metadata": {},
   "source": [
    "## Struktury używane w ramach algorytmu"
   ]
  },
  {
   "cell_type": "code",
   "execution_count": 4,
   "id": "93cb3090",
   "metadata": {
    "scrolled": false,
    "ExecuteTime": {
     "end_time": "2024-01-01T20:01:35.119581916Z",
     "start_time": "2024-01-01T20:01:34.972271637Z"
    }
   },
   "outputs": [],
   "source": [
    "#pojedynczy element mapy trapezowej\n",
    "class Trapezoid:\n",
    "    def __init__(self,upper,lower,left,right):\n",
    "        self.upper=upper #niepionowy odcinek z S / górna krawędź ramki R, ograniczająca trapez z góry\n",
    "        self.lower=lower #niepionowy odcinek z S / dolna krawędź ramki R, ograniczająca trapez od dołu\n",
    "        self.left_p=left #punkt końcowy definiujący lewą krawędź trapezu\n",
    "        self.right_p=right #punkt końcowy definiujący prawą krawędź trapezu\n",
    "        self.right_upper_neighbour=None #prawy górny sąsiad trapezu w mapie trapezowej\n",
    "        self.right_lower_neighbour=None #prawy dolny sąsiad trapezu w mapie trapezowej\n",
    "        self.left_lower_neighbour=None #lewy dolny sąsiad trapezu w mapie trapezowej\n",
    "        self.left_upper_neighbour=None #lewy górny sąsiad trapezu w mapie trapezowej\n",
    "        self.leaf=None #wskaźnik do liścia w strukturze przeszukiwań\n",
    "        \n",
    "    def __repr__(self):\n",
    "        part1=\"Trapezoid\\nupper: \"+str(self.upper)+\"\\nlower: \"+str(self.lower)+\"\\nleft: \"+str(self.left_p)\n",
    "        part2=\"\\nright: \"+str(self.right_p)+\"\\nleaf: \"+str(self.leaf)+\"\\n\\n\"\n",
    "        return part1+part2\n",
    "\n",
    "#struktura przeszukiwań - drzewo i węzły\n",
    "class DTree:\n",
    "    def __init__(self,root):\n",
    "        self.root=root #korzeń drzewa przeszukiwań\n",
    "        \n",
    "class DNode:\n",
    "    def __init__(self,kind,label):\n",
    "        self.kind=kind #rodzaj węzła - x-węzeł (0), y-węzeł (1) albo liść (2)\n",
    "        self.label=label #etykieta węzła - w zależności od typu węzła jest to punkt, odcinek albo trapez\n",
    "        self.left=None #punkt po lewej stronie (x-węzeł), odcinek leżący powyżej (y-węzeł)\n",
    "        self.right=None #punkt po prawej stronie (x-węzeł), odcinek leżący poniżej (y-węzeł)\n",
    "        \n",
    "    def __str__(self):\n",
    "        return \"kind: \"+str(self.kind)+\", label:\"+str(self.label.__class__)\n",
    "\n",
    "#klasa reprezentująca punkt\n",
    "class Point:\n",
    "    def __init__(self,x,y):\n",
    "        self.x=x #współrzędna x-owa\n",
    "        self.y=y #współrzędna y-owa\n",
    "        \n",
    "    def __eq__(self,other):\n",
    "        return self.x==other.x and self.y==other.y\n",
    "    \n",
    "    def __gt__(self,other):\n",
    "        return self.x>other.x\n",
    "    \n",
    "    def __hash__(self):\n",
    "        return hash((self.x,self.y))\n",
    "    \n",
    "    def __str__(self):\n",
    "        return \"x=\"+str(self.x)+\", y=\"+str(self.y)\n",
    "    \n",
    "#klasa reprezentująca odcinek\n",
    "class Section:\n",
    "    def __init__(self,L,R):\n",
    "        self.L=L #lewy koniec odcinka\n",
    "        self.R=R #prawy koniec odcinka\n",
    "        if self.R.x!=self.L.x:\n",
    "            self.a=(self.R.y-self.L.y)/(self.R.x-self.L.x) #współczynnik nachylenia\n",
    "        else:\n",
    "            self.a=None\n",
    "        if self.a!=None:\n",
    "            self.b=self.L.y-self.a*self.L.x #wyraz wolny\n",
    "        else:\n",
    "            self.b=None\n",
    "        self.x=L.x\n",
    "        \n",
    "    def update_x(x): \n",
    "        Section.x=x\n",
    "    \n",
    "    def __gt__(self,other):\n",
    "        return self.a*Section.x+self.b>other.a*Section.x+other.b\n",
    "    \n",
    "    def __hash__(self):\n",
    "        return hash((self.L,self.R))\n",
    "    \n",
    "    def __str__(self):\n",
    "        return \"Left point: \"+str(self.L)+\"\\nRight point: \"+str(self.R)\n",
    "    \n",
    "    def above_point(self,point):\n",
    "        return self.a*Section.x+self.b>point.y\n",
    "    \n",
    "    def at_x(self):\n",
    "        return Point(Section.x,self.a*Section.x+self.b)"
   ]
  },
  {
   "cell_type": "markdown",
   "id": "3c314b9b",
   "metadata": {},
   "source": [
    "##### Spostrzeżenie:\n",
    "Nie ma potrzeby tworzyć struktury dla \"całej\" mapy trapezowej, ponieważ potrzebne informacje uzyskamy ze struktury przeszukiwań.\n",
    "### Pomocnicze biblioteki"
   ]
  },
  {
   "cell_type": "code",
   "execution_count": 5,
   "id": "f401e315",
   "metadata": {
    "scrolled": false,
    "ExecuteTime": {
     "end_time": "2024-01-01T20:01:35.399376865Z",
     "start_time": "2024-01-01T20:01:34.984477553Z"
    }
   },
   "outputs": [],
   "source": [
    "import numpy as np\n",
    "import matplotlib.pyplot as plt\n",
    "from bitalg.visualizer.main import Visualizer"
   ]
  },
  {
   "cell_type": "markdown",
   "id": "a4212f82",
   "metadata": {},
   "source": [
    "## Algorytmy potrzebne do rozwiązania problemu\n",
    "### Randomizowany algorytm przyrostowy\n",
    "Ideą tego algorytmu jest to, że przetwarzamy odcinki ze zbioru $S$ w losowej kolejności (bierzemy dowolną permutację). Dla pewnych przypadków otrzymana struktura przeszukiwań $D$ ma rozmiar kwadratowy i liniowy czas przeszukiwania, ale dla innych permutacji złożoności tych operacji będą dużo lepsze. Analiza złożoności tego algorytmu jest probabilistyczna. Jak się okazuje, oczekiwana złożoność czasowa konstrukcji mapy trapezowej to ```O(nlogn)```, oczekiwany rozmiar struktury przeszukiwań to ```O(n)```, natomiast oczekiwany czas zapytania dla dowolnego punktu to ```O(logn)```, gdzie *n* oznacza liczbę odcinków ze zbioru $S$, dla którego tę strukturę przygotowujemy.\n",
    "#### Główna funkcja"
   ]
  },
  {
   "cell_type": "code",
   "execution_count": 6,
   "id": "c98fe7b2",
   "metadata": {
    "scrolled": false,
    "ExecuteTime": {
     "end_time": "2024-01-01T20:01:35.592648346Z",
     "start_time": "2024-01-01T20:01:35.015992905Z"
    }
   },
   "outputs": [],
   "source": [
    "def trapezoidal_map(S):\n",
    "    \"\"\"\n",
    "    Funkcja wyznacza mapę trapezową T(S) oraz strukturę przeszukiwań D dla zadanego zbioru odcinków S.\n",
    "    :param S: zbiór odcinków spełniających założenia wspomniane powyżej\n",
    "    :return: mapa trapezowa T(S), struktura przeszukiwań D dla tej mapy trapezowej oraz ramka R zawierająca odcinki\n",
    "    \"\"\"\n",
    "    lower_left,upper_right=find_boundaries(S)\n",
    "    upper=Section(Point(lower_left.x,upper_right.y),upper_right)\n",
    "    lower=Section(lower_left,Point(upper_right.x,lower_left.y))\n",
    "    R=Trapezoid(upper,lower,lower_left,upper_right)\n",
    "    T=R\n",
    "    root=DNode(2,T)\n",
    "    T.leaf=root\n",
    "    D=DTree(root)\n",
    "    sections=np.random.permutation(S)\n",
    "    n=len(S)\n",
    "    vis=draw_map(D,R)\n",
    "    vis.show()\n",
    "    for i in range(n):\n",
    "        intersected_trapezoids=follow_segment(T,D,sections[i],R)\n",
    "        if len(intersected_trapezoids)==1:\n",
    "            update_structures_one(T,D,intersected_trapezoids[0],sections[i])\n",
    "        else:\n",
    "            update_structures_many(T,D,intersected_trapezoids,sections[i])\n",
    "        vis=draw_map(D,R)\n",
    "        vis.show()\n",
    "    return T,D,R"
   ]
  },
  {
   "cell_type": "markdown",
   "id": "94806167",
   "metadata": {},
   "source": [
    "Poniżej znajdują się pomocnicze funkcje do ```trapezoidal_map```, również bardzo istotne na drodze do rozwiązania problemu. Funkcje aktualizujące struktury zostały rozdzielone z powodu bardzo długiego kodu, aby były bardziej czytelne."
   ]
  },
  {
   "cell_type": "code",
   "execution_count": 7,
   "id": "aa6f93f2",
   "metadata": {
    "scrolled": false,
    "ExecuteTime": {
     "end_time": "2024-01-01T20:01:35.593037961Z",
     "start_time": "2024-01-01T20:01:35.057929568Z"
    }
   },
   "outputs": [],
   "source": [
    "def find_boundaries(S):\n",
    "    \"\"\"\n",
    "    Funkcja wyznacza krańcowe punkty ramki R (lewy dolny i prawy górny punkt).\n",
    "    :param S: zbiór odcinków, dla którego wyznaczamy granice ramki\n",
    "    :return: lewy dolny i prawy górny punkt ramki R\n",
    "    \"\"\"\n",
    "    x_left=S[0].L.x\n",
    "    y_left=min(S[0].L.y,S[0].R.y)\n",
    "    x_right=S[0].R.x\n",
    "    y_right=max(S[0].L.y,S[0].R.y)\n",
    "    n=len(S)\n",
    "    for i in range(1,n):\n",
    "        left=S[i].L\n",
    "        right=S[i].R\n",
    "        x_left=min(x_left,left.x)\n",
    "        y_left=min(y_left,left.y,right.y)\n",
    "        x_right=max(x_right,right.x)\n",
    "        y_right=max(y_right,left.y,right.y)\n",
    "    return Point(x_left,y_left),Point(x_right,y_right)"
   ]
  },
  {
   "cell_type": "code",
   "execution_count": 8,
   "id": "eff83dc2",
   "metadata": {
    "scrolled": false,
    "ExecuteTime": {
     "end_time": "2024-01-01T20:01:35.593231099Z",
     "start_time": "2024-01-01T20:01:35.058295893Z"
    }
   },
   "outputs": [],
   "source": [
    "def follow_segment(T,D,s,R):\n",
    "    \"\"\"\n",
    "    Funkcja wyznacza ciąg trapezów w mapie trapezowej T przeciętych przez odcinek s,\n",
    "    wykorzystując w tym celu strukturę przeszukiwań D.\n",
    "    :param T: mapa trapezowa dla odcinków występujących przed właśnie sprawdzanym odcinkiem s\n",
    "    :param D: prawidłowa struktura przeszukiwań dla aktualnej mapy trapezowej T\n",
    "    :param s: odcinek ze zbioru S, który jest właśnie uwzględniany w strukturach\n",
    "    :param R: ramka dla zbioru odcinków S\n",
    "    \"\"\"\n",
    "    p,q=s.L,s.R\n",
    "    vis=Visualizer()\n",
    "    trapezoids=[]\n",
    "    Section.update_x(p.x)\n",
    "    trapezoid_zero=search_trapezoid(D.root,p,s)\n",
    "    trapezoids.append(trapezoid_zero)\n",
    "    j=0\n",
    "    vis,neighbours=draw_trapezoid_with_neighbours(trapezoids[j],vis,[])\n",
    "    vis.add_line_segment(section_to_tuple(s),color=\"red\")\n",
    "    vis=draw_grid(R,vis)\n",
    "    vis.show()\n",
    "    while q>trapezoids[j].right_p:\n",
    "        Section.update_x(trapezoids[j].right_p.x)\n",
    "        if s.above_point(trapezoids[j].right_p):\n",
    "            trapezoids.append(trapezoids[j].right_upper_neighbour)\n",
    "        else:\n",
    "            trapezoids.append(trapezoids[j].right_lower_neighbour)\n",
    "        j+=1\n",
    "        vis,neighbours=draw_trapezoid_with_neighbours(trapezoids[j],vis,neighbours)\n",
    "        vis.show()\n",
    "    return trapezoids"
   ]
  },
  {
   "cell_type": "code",
   "execution_count": 9,
   "id": "6513e916",
   "metadata": {
    "scrolled": false,
    "ExecuteTime": {
     "end_time": "2024-01-01T20:01:35.593475137Z",
     "start_time": "2024-01-01T20:01:35.058687627Z"
    }
   },
   "outputs": [],
   "source": [
    "def search_trapezoid(node,point,segment=None):\n",
    "    \"\"\"\n",
    "    Funkcja znajduje pierwszy (z lewej) trapez, który zawiera w sobie szukany punkt. Jeżeli punkt leży na \n",
    "    odcinku pionowym łączącym dwa trapezy, uznajemy, że należy do \"prawego\" trapezu. Z kolei gdy punkt leży \n",
    "    na już wcześniej uwzględnionym odcinku, porównujemy nachylenia: już dodanego odcinka s1 i właśnie badanego\n",
    "    odcinka s2. Jeżeli s2 ma większe nachylenie, to przyjmujemy, że punkt leży powyżej s1 i vice-versa.\n",
    "    :param node: węzęł drzewa przeszukiwań; początkowo jest to korzeń drzewa\n",
    "    :param point: punkt, dla którego szukamy trapezu\n",
    "    :param segment: właśnie badany odcinek (w trakcie tworzenia mapy trapezowej)\n",
    "    :return: trapez zawierający szukany punkt\n",
    "    \"\"\"\n",
    "    if node.kind==2:\n",
    "        return node.label\n",
    "    elif node.kind==0:\n",
    "        if point<node.label:\n",
    "            return search_trapezoid(node.left,point,segment)\n",
    "        else:\n",
    "            return search_trapezoid(node.right,point,segment)\n",
    "    else:\n",
    "        if node.label.above_point(point):\n",
    "            return search_trapezoid(node.right,point,segment)\n",
    "        elif node.label.at_x()==point:\n",
    "            if segment.a>node.label.a:\n",
    "                return search_trapezoid(node.left,point,segment)\n",
    "            else:\n",
    "                return search_trapezoid(node.right,point,segment)\n",
    "        else:\n",
    "            return search_trapezoid(node.left,point,segment)"
   ]
  },
  {
   "cell_type": "code",
   "execution_count": 10,
   "id": "d84b09e9",
   "metadata": {
    "scrolled": false,
    "ExecuteTime": {
     "end_time": "2024-01-01T20:01:35.594478252Z",
     "start_time": "2024-01-01T20:01:35.078413180Z"
    }
   },
   "outputs": [],
   "source": [
    "def update_structures_one(T,D,trapezoid,s):\n",
    "    \"\"\"\n",
    "    Funkcja aktualizuje mapę trapezową T oraz strukturę przeszukiwań D, usuwając wskazany trapez i konstruując nowe.\n",
    "    :param T: mapa trapezowa dla odcinków występujących przed właśnie sprawdzanym odcinkiem s\n",
    "    :param D: prawidłowa struktura przeszukiwań dla aktualnej mapy trapezowej T\n",
    "    :param trapezoid: trapez zawierający odcinek s, ma on być usunięty i zastąpiony\n",
    "    :param s: odcinek ze zbioru S, który jest właśnie uwzględniany w strukturach\n",
    "    \"\"\"\n",
    "    p,q=s.L,s.R\n",
    "    A,B=None,None\n",
    "    left_lower_neighbour=trapezoid.left_lower_neighbour\n",
    "    left_upper_neighbour=trapezoid.left_upper_neighbour\n",
    "    right_upper_neighbour=trapezoid.right_upper_neighbour\n",
    "    right_lower_neighbour=trapezoid.right_lower_neighbour\n",
    "    node=trapezoid.leaf\n",
    "    if trapezoid.left_p<p:\n",
    "        A=Trapezoid(trapezoid.upper,trapezoid.lower,trapezoid.left_p,p)\n",
    "        A.left_lower_neighbour=left_lower_neighbour\n",
    "        A.left_upper_neighbour=left_upper_neighbour\n",
    "        if left_lower_neighbour:\n",
    "            left_lower_neighbour.right_lower_neighbour=A\n",
    "        if left_upper_neighbour:\n",
    "            left_upper_neighbour.right_upper_neighbour=A\n",
    "    C=Trapezoid(trapezoid.upper,s,p,q)\n",
    "    D=Trapezoid(s,trapezoid.lower,p,q)\n",
    "    if A:\n",
    "        C.left_upper_neighbour=A\n",
    "        D.left_lower_neighbour=A\n",
    "        A.right_upper_neighbour=C\n",
    "        A.right_lower_neighbour=D\n",
    "    else:\n",
    "        Section.update_x(p.x)\n",
    "        D.left_lower_neighbour=left_lower_neighbour\n",
    "        C.left_upper_neighbour=left_upper_neighbour\n",
    "        if left_lower_neighbour:\n",
    "            left_lower_neighbour.right_lower_neighbour=D\n",
    "            if left_lower_neighbour.upper>s:\n",
    "                left_lower_neighbour.right_upper_neighbour=C\n",
    "                C.left_lower_neighbour=left_lower_neighbour\n",
    "        if left_upper_neighbour:\n",
    "            left_upper_neighbour.right_upper_neighbour=C\n",
    "            if s>left_upper_neighbour.lower:\n",
    "                left_upper_neighbour.right_lower_neighbour=D\n",
    "                D.left_upper_neighbour=left_upper_neighbour\n",
    "    if trapezoid.right_p>q:\n",
    "        B=Trapezoid(trapezoid.upper,trapezoid.lower,q,trapezoid.right_p)\n",
    "        B.right_lower_neighbour=right_lower_neighbour\n",
    "        B.right_upper_neighbour=right_upper_neighbour\n",
    "        B.left_lower_neighbour=D\n",
    "        B.left_upper_neighbour=C\n",
    "        C.right_upper_neighbour=B\n",
    "        D.right_lower_neighbour=B\n",
    "        if right_lower_neighbour:\n",
    "            right_lower_neighbour.left_lower_neighbour=B\n",
    "        if right_upper_neighbour:\n",
    "            right_upper_neighbour.left_upper_neighbour=B\n",
    "    else:\n",
    "        Section.update_x(q.x)\n",
    "        D.right_lower_neighbour=right_lower_neighbour\n",
    "        C.right_upper_neighbour=right_upper_neighbour\n",
    "        if right_lower_neighbour:\n",
    "            right_lower_neighbour.left_lower_neighbour=D\n",
    "            if right_lower_neighbour.upper>s:\n",
    "                right_lower_neighbour.left_upper_neighbour=C\n",
    "                C.right_lower_neighbour=right_lower_neighbour\n",
    "        if right_upper_neighbour:\n",
    "            right_upper_neighbour.left_upper_neighbour=C\n",
    "            if s>right_upper_neighbour.lower:\n",
    "                right_upper_neighbour.left_lower_neighbour=D\n",
    "                D.right_upper_neighbour=right_upper_neighbour\n",
    "    if A and B:\n",
    "        node.kind=0\n",
    "        node.label=p\n",
    "        left=DNode(2,A)\n",
    "        node.left=left\n",
    "        A.leaf=left\n",
    "        right=DNode(0,q)\n",
    "        node.right=right\n",
    "        right_right=DNode(2,B)\n",
    "        right.right=right_right\n",
    "        B.leaf=right_right\n",
    "        right_left=DNode(1,s)\n",
    "        right.left=right_left\n",
    "        right_left_left=DNode(2,C)\n",
    "        right_left.left=right_left_left\n",
    "        C.leaf=right_left_left\n",
    "        right_left_right=DNode(2,D)\n",
    "        right_left.right=right_left_right\n",
    "        D.leaf=right_left_right\n",
    "    elif not A and B:\n",
    "        node.kind=0\n",
    "        node.label=q\n",
    "        right=DNode(2,B)\n",
    "        node.right=right\n",
    "        B.leaf=right\n",
    "        left=DNode(1,s)\n",
    "        node.left=left\n",
    "        left_left=DNode(2,C)\n",
    "        left.left=left_left\n",
    "        C.leaf=left_left\n",
    "        left_right=DNode(2,D)\n",
    "        left.right=left_right\n",
    "        D.leaf=left_right\n",
    "    elif A and not B:\n",
    "        node.kind=0\n",
    "        node.label=p\n",
    "        left=DNode(2,A)\n",
    "        node.left=left\n",
    "        A.leaf=left\n",
    "        right=DNode(1,s)\n",
    "        node.right=right\n",
    "        right_right=DNode(2,D)\n",
    "        right.right=right_right\n",
    "        D.leaf=right_right\n",
    "        right_left=DNode(2,C)\n",
    "        right.left=right_left\n",
    "        C.leaf=right_left\n",
    "    else:\n",
    "        node.kind=1\n",
    "        node.label=s\n",
    "        left=DNode(2,C)\n",
    "        node.left=left\n",
    "        C.leaf=left\n",
    "        right=DNode(2,D)\n",
    "        node.right=right\n",
    "        D.leaf=right"
   ]
  },
  {
   "cell_type": "code",
   "execution_count": 11,
   "id": "183e770c",
   "metadata": {
    "scrolled": false,
    "ExecuteTime": {
     "end_time": "2024-01-01T20:01:35.594855087Z",
     "start_time": "2024-01-01T20:01:35.103040115Z"
    }
   },
   "outputs": [],
   "source": [
    "def update_structures_many(T,D,trapezoids,s):\n",
    "    \"\"\"\n",
    "    Funkcja aktualizuje mapę trapezową T oraz strukturę przeszukiwań D, usuwając odpowiednie trapezy i konstruując nowe.\n",
    "    :param T: mapa trapezowa dla odcinków występujących przed właśnie sprawdzanym odcinkiem s\n",
    "    :param D: prawidłowa struktura przeszukiwań dla aktualnej mapy trapezowej T\n",
    "    :param trapezoids: lista trapezów przeciętych przez odcinek s, mają one być usunięte i zastąpione\n",
    "    :param s: odcinek ze zbioru S, który jest właśnie uwzględniany w strukturach\n",
    "    \"\"\"\n",
    "    p,q=s.L,s.R\n",
    "    A,D=None,None\n",
    "    new_trapezoids_above=[]\n",
    "    new_trapezoids_below=[]\n",
    "    n=len(trapezoids)\n",
    "    first=trapezoids[0]\n",
    "    left_lower_neighbour=first.left_lower_neighbour\n",
    "    left_upper_neighbour=first.left_upper_neighbour\n",
    "    right_upper_neighbour=first.right_upper_neighbour\n",
    "    right_lower_neighbour=first.right_lower_neighbour\n",
    "    Section.update_x(first.right_p.x)\n",
    "    if s.above_point(first.right_p):\n",
    "        B=Trapezoid(first.upper,s,p,s.at_x())\n",
    "        C=Trapezoid(s,first.lower,p,first.right_p)\n",
    "        to_merge=\"upper\"\n",
    "    else:\n",
    "        B=Trapezoid(first.upper,s,p,first.right_p)\n",
    "        C=Trapezoid(s,first.lower,p,s.at_x())\n",
    "        to_merge=\"lower\"\n",
    "    if first.left_p<p:\n",
    "        A=Trapezoid(first.upper,first.lower,first.left_p,p)\n",
    "        A.left_lower_neighbour=left_lower_neighbour\n",
    "        A.left_upper_neighbour=left_upper_neighbour\n",
    "        A.right_upper_neighbour=B\n",
    "        A.right_lower_neighbour=C\n",
    "        B.left_upper_neighbour=A\n",
    "        C.left_lower_neighbour=A\n",
    "        if left_lower_neighbour:\n",
    "            left_lower_neighbour.right_lower_neighbour=A\n",
    "        if left_upper_neighbour:\n",
    "            left_upper_neighbour.right_upper_neighbour=A    \n",
    "    else:\n",
    "        B.left_upper_neighbour=left_upper_neighbour\n",
    "        C.left_lower_neighbour=left_lower_neighbour\n",
    "        if left_lower_neighbour:\n",
    "            left_lower_neighbour.right_lower_neighbour=C\n",
    "            if left_lower_neighbour.upper>s:\n",
    "                left_lower_neighbour.right_upper_neighbour=B\n",
    "                B.left_lower_neighbour=left_lower_neighbour\n",
    "        if left_upper_neighbour:\n",
    "            left_upper_neighbour.right_upper_neighbour=B\n",
    "            if s>left_upper_neighbour.lower:\n",
    "                left_upper_neighbour.right_lower_neighbour=C\n",
    "                C.left_upper_neighbour=left_upper_neighbour\n",
    "    if trapezoids[1]==first.right_lower_neighbour:\n",
    "        B.right_upper_neighbour=right_upper_neighbour\n",
    "        if right_upper_neighbour:\n",
    "            right_upper_neighbour.left_upper_neighbour=B\n",
    "    else:\n",
    "        C.right_lower_neighbour=right_lower_neighbour\n",
    "        if right_lower_neighbour:\n",
    "            right_lower_neighbour.left_lower_neighbour=C\n",
    "    new_trapezoids_above.append(B)\n",
    "    new_trapezoids_below.append(C)\n",
    "    for j in range(1,n-1):\n",
    "        next_point=trapezoids[j].right_p\n",
    "        left_lower_neighbour=trapezoids[j].left_lower_neighbour\n",
    "        left_upper_neighbour=trapezoids[j].left_upper_neighbour\n",
    "        right_upper_neighbour=trapezoids[j].right_upper_neighbour\n",
    "        right_lower_neighbour=trapezoids[j].right_lower_neighbour\n",
    "        Section.update_x(next_point.x)\n",
    "        if s.above_point(next_point):\n",
    "            upper_right_point=s.at_x()\n",
    "            if to_merge==\"upper\":\n",
    "                B.right_p=upper_right_point\n",
    "                t=Trapezoid(s,trapezoids[j].lower,C.right_p,next_point)\n",
    "                C.right_upper_neighbour=t\n",
    "                t.left_upper_neighbour=C\n",
    "                t.left_lower_neighbour=left_lower_neighbour\n",
    "                t.right_lower_neighbour=right_lower_neighbour\n",
    "                if left_lower_neighbour:\n",
    "                    left_lower_neighbour.right_lower_neighbour=t\n",
    "                if right_lower_neighbour:\n",
    "                    right_lower_neighbour.left_lower_neighbour=t\n",
    "                C=t\n",
    "                new_trapezoids_below.append(C)\n",
    "            else:\n",
    "                C.right_p=next_point\n",
    "                t=Trapezoid(trapezoids[j].upper,s,B.right_p,upper_right_point)\n",
    "                B.right_lower_neighbour=t\n",
    "                t.left_lower_neighbour=B\n",
    "                t.left_upper_neighbour=left_upper_neighbour\n",
    "                if left_upper_neighbour:\n",
    "                    left_upper_neighbour.right_upper_neighbour=t\n",
    "                C.right_lower_neighbour=right_lower_neighbour\n",
    "                if right_lower_neighbour:\n",
    "                    right_lower_neighbour.left_lower_neighbour=C\n",
    "                B=t\n",
    "                new_trapezoids_above.append(B)\n",
    "            to_merge=\"upper\"\n",
    "        else:\n",
    "            lower_right_point=s.at_x()\n",
    "            if to_merge==\"upper\":\n",
    "                B.right_p=next_point\n",
    "                t=Trapezoid(s,trapezoids[j].lower,C.right_p,lower_right_point)\n",
    "                C.right_upper_neighbour=t\n",
    "                t.left_upper_neighbour=C\n",
    "                t.left_lower_neighbour=left_lower_neighbour\n",
    "                if left_lower_neighbour:\n",
    "                    left_lower_neighbour.right_lower_neighbour=t\n",
    "                B.right_upper_neighbour=right_upper_neighbour\n",
    "                if right_upper_neighbour:\n",
    "                    right_upper_neighbour.left_upper_neighbour=B\n",
    "                C=t\n",
    "                new_trapezoids_below.append(C)\n",
    "            else:\n",
    "                C.right_p=lower_right_point\n",
    "                t=Trapezoid(trapezoids[j].upper,s,B.right_p,next_point)\n",
    "                B.right_lower_neighbour=t\n",
    "                t.left_lower_neighbour=B\n",
    "                t.left_upper_neighbour=left_upper_neighbour\n",
    "                t.right_upper_neighbour=right_upper_neighbour\n",
    "                if left_upper_neighbour:\n",
    "                    left_upper_neighbour.right_upper_neighbour=t\n",
    "                if right_upper_neighbour:\n",
    "                    right_upper_neighbour.left_upper_neighbour=t\n",
    "                B=t\n",
    "                new_trapezoids_above.append(B)\n",
    "            to_merge=\"lower\"\n",
    "    last=trapezoids[n-1]\n",
    "    left_lower_neighbour=last.left_lower_neighbour\n",
    "    left_upper_neighbour=last.left_upper_neighbour\n",
    "    right_upper_neighbour=last.right_upper_neighbour\n",
    "    right_lower_neighbour=last.right_lower_neighbour\n",
    "    if to_merge==\"upper\":\n",
    "        B.right_p=q\n",
    "        t=Trapezoid(s,last.lower,C.right_p,q)\n",
    "        C.right_upper_neighbour=t\n",
    "        t.left_upper_neighbour=C\n",
    "        C=t\n",
    "        new_trapezoids_below.append(C)\n",
    "    else:\n",
    "        C.right_p=q\n",
    "        t=Trapezoid(last.upper,s,B.right_p,q)\n",
    "        B.right_lower_neighbour=t\n",
    "        t.left_lower_neighbour=B\n",
    "        B=t\n",
    "        new_trapezoids_above.append(B)\n",
    "    if last.right_p>q:\n",
    "        D=Trapezoid(last.upper,last.lower,q,last.right_p)\n",
    "        D.left_lower_neighbour=C\n",
    "        D.left_upper_neighbour=B\n",
    "        D.right_upper_neighbour=right_upper_neighbour\n",
    "        D.right_lower_neighbour=right_lower_neighbour\n",
    "        B.right_upper_neighbour=D\n",
    "        C.right_lower_neighbour=D\n",
    "        if right_lower_neighbour:\n",
    "            right_lower_neighbour.left_lower_neighbour=D\n",
    "        if right_upper_neighbour:\n",
    "            right_upper_neighbour.left_upper_neighbour=D\n",
    "    else:\n",
    "        B.right_upper_neighbour=right_upper_neighbour\n",
    "        C.right_lower_neighbour=right_lower_neighbour\n",
    "        if right_lower_neighbour:\n",
    "            right_lower_neighbour.left_lower_neighbour=C\n",
    "            if right_lower_neighbour.upper>s:\n",
    "                right_lower_neighbour.left_upper_neighbour=B\n",
    "                B.right_lower_neighbour=right_lower_neighbour\n",
    "        if right_upper_neighbour:\n",
    "            right_upper_neighbour.left_upper_neighbour=B\n",
    "            if s>right_upper_neighbour.lower:\n",
    "                right_upper_neighbour.left_lower_neighbour=C\n",
    "                C.right_upper_neighbour=right_upper_neighbour\n",
    "    if trapezoids[n-1]==trapezoids[n-2].right_upper_neighbour:\n",
    "        C.left_lower_neighbour=left_lower_neighbour\n",
    "        if left_lower_neighbour:\n",
    "            left_lower_neighbour.right_lower_neighbour=C\n",
    "    else:\n",
    "        B.left_upper_neighbour=left_upper_neighbour\n",
    "        if left_upper_neighbour:\n",
    "            left_upper_neighbour.right_upper_neighbour=B\n",
    "    far_left=first.leaf\n",
    "    if A:\n",
    "        far_left.kind=0\n",
    "        far_left.label=p\n",
    "        left=DNode(2,A)\n",
    "        far_left.left=left\n",
    "        A.leaf=left\n",
    "        right=DNode(1,s)\n",
    "        far_left.right=right\n",
    "        right_left=DNode(2,new_trapezoids_above[0])\n",
    "        right.left=right_left\n",
    "        new_trapezoids_above[0].leaf=right_left\n",
    "        right_right=DNode(2,new_trapezoids_below[0])\n",
    "        right.right=right_right\n",
    "        new_trapezoids_below[0].leaf=right_right\n",
    "    else:\n",
    "        far_left.kind=1\n",
    "        far_left.label=s\n",
    "        left=DNode(2,new_trapezoids_above[0])\n",
    "        far_left.left=left\n",
    "        new_trapezoids_above[0].leaf=left\n",
    "        right=DNode(2,new_trapezoids_below[0])\n",
    "        far_left.right=right\n",
    "        new_trapezoids_below[0].leaf=right\n",
    "    i=0\n",
    "    j=0\n",
    "    k=len(new_trapezoids_above)\n",
    "    m=len(new_trapezoids_below)\n",
    "    while i+j<n-2:\n",
    "        node=trapezoids[i+j+1].leaf\n",
    "        node.kind=1\n",
    "        node.label=s\n",
    "        if new_trapezoids_above[i].right_p>new_trapezoids_below[j].right_p or i==k-1:\n",
    "            j+=1\n",
    "            left=new_trapezoids_above[i].leaf\n",
    "            node.left=left\n",
    "            right=DNode(2,new_trapezoids_below[j])\n",
    "            node.right=right\n",
    "            new_trapezoids_below[j].leaf=right\n",
    "        else:\n",
    "            i+=1\n",
    "            left=DNode(2,new_trapezoids_above[i])\n",
    "            node.left=left\n",
    "            new_trapezoids_above[i].leaf=left\n",
    "            right=new_trapezoids_below[j].leaf\n",
    "            node.right=right\n",
    "    far_right=last.leaf\n",
    "    if D:\n",
    "        far_right.kind=0\n",
    "        far_right.label=q\n",
    "        right=DNode(2,D)\n",
    "        far_right.right=right\n",
    "        D.leaf=right\n",
    "        left=DNode(1,s)\n",
    "        far_right.left=left\n",
    "        if i==k-1 and j==m-1:\n",
    "            left.left=new_trapezoids_above[i].leaf\n",
    "            left.right=new_trapezoids_below[j].leaf\n",
    "        elif j==m-1:\n",
    "            left_left=DNode(2,new_trapezoids_above[-1])\n",
    "            left.left=left_left\n",
    "            new_trapezoids_above[-1].leaf=left_left\n",
    "            left.right=new_trapezoids_below[j].leaf\n",
    "        else:\n",
    "            left_right=DNode(2,new_trapezoids_below[-1])\n",
    "            left.right=left_right\n",
    "            new_trapezoids_below[-1].leaf=left_right\n",
    "            left.left=new_trapezoids_above[i].leaf\n",
    "    else:\n",
    "        far_right.kind=1\n",
    "        far_right.label=s\n",
    "        if i==k-1 and j==m-1:\n",
    "            far_right.left=new_trapezoids_above[i].leaf\n",
    "            far_right.right=new_trapezoids_below[j].leaf\n",
    "        elif j==m-1:\n",
    "            left=DNode(2,new_trapezoids_above[-1])\n",
    "            far_right.left=left\n",
    "            new_trapezoids_above[-1].leaf=left\n",
    "            far_right.right=new_trapezoids_below[j].leaf\n",
    "        else:\n",
    "            right=DNode(2,new_trapezoids_below[-1])\n",
    "            far_right.right=right\n",
    "            new_trapezoids_below[-1].leaf=right\n",
    "            far_right.left=new_trapezoids_above[i].leaf"
   ]
  },
  {
   "cell_type": "markdown",
   "id": "32a8a5d6",
   "metadata": {},
   "source": [
    "Poniżej znajduje się funkcja przedstawiająca graficznie punkt wraz z trapezem, który go zawiera oraz funkcje pomocnicze do niej."
   ]
  },
  {
   "cell_type": "code",
   "execution_count": 12,
   "id": "31180dbf",
   "metadata": {
    "scrolled": false,
    "ExecuteTime": {
     "end_time": "2024-01-01T20:01:35.610148635Z",
     "start_time": "2024-01-01T20:01:35.125849363Z"
    }
   },
   "outputs": [],
   "source": [
    "def draw_trapezoid_and_point(point,D,R):\n",
    "    \"\"\"\n",
    "    Funkcja zwraca wizualizer, wyświetlający podany punkt oraz boki znalezionego trapezu, zawierającego punkt.\n",
    "    :param point: punkt, dla którego szukamy trapezu\n",
    "    :param D: struktura przeszukiwań dla mapy trapezowej\n",
    "    :param R: ramka zawierająca wszystkie odcinki\n",
    "    :return: wizualizer zawierający dodane odpowiednie odcinki i punkty\n",
    "    \"\"\"\n",
    "    vis=Visualizer()\n",
    "    vis.add_point((point.x,point.y),color=\"red\")\n",
    "    Section.update_x(point.x)\n",
    "    root=D.root\n",
    "    trapezoid=search_trapezoid(root,point)\n",
    "    vis=draw_trapezoid(trapezoid,vis)\n",
    "    vis=draw_grid(R,vis)             \n",
    "    return vis"
   ]
  },
  {
   "cell_type": "code",
   "execution_count": 13,
   "id": "9bd07b8a",
   "metadata": {
    "scrolled": false,
    "ExecuteTime": {
     "end_time": "2024-01-01T20:01:35.611049947Z",
     "start_time": "2024-01-01T20:01:35.171287591Z"
    }
   },
   "outputs": [],
   "source": [
    "def draw_grid(R,vis):\n",
    "    \"\"\"\n",
    "    Funkcja rysuje ramkę (prostokąt zewnętrzny) dla mapy trapezowej, dodając odpowiednie boki do wizualizera.\n",
    "    :param R: ramka dla mapy trapezowej\n",
    "    :param vis: wizualizer, do którego dodajemy odpowiednie boki\n",
    "    :return: wizualizer z dodanymi bokami prostokąta\n",
    "    \"\"\"\n",
    "    vis.add_line_segment((section_to_tuple(R.upper),section_to_tuple(R.lower)),color=\"brown\")\n",
    "    R_left=Section(R.left_p,Point(R.left_p.x,R.right_p.y))\n",
    "    R_right=Section(Point(R.right_p.x,R.left_p.y),R.right_p)\n",
    "    vis.add_line_segment((section_to_tuple(R_left),section_to_tuple(R_right)),color=\"brown\")\n",
    "    return vis"
   ]
  },
  {
   "cell_type": "code",
   "execution_count": 14,
   "id": "88c80789",
   "metadata": {
    "scrolled": false,
    "ExecuteTime": {
     "end_time": "2024-01-01T20:01:35.611569493Z",
     "start_time": "2024-01-01T20:01:35.172076087Z"
    }
   },
   "outputs": [],
   "source": [
    "def draw_trapezoid(trapezoid,vis,color=\"green\"):\n",
    "    \"\"\"\n",
    "    Funkcja rysuje wskazany trapez.\n",
    "    :param trapezoid: trapez, który ma być narysowany\n",
    "    :param vis: wizualizer, do którego dodajemy elementy charakterystyczne trapezu\n",
    "    :param color: kolor, jakim ma być wyróżniony trapez\n",
    "    :return: wizualizer z dodanymi odpowiednimi elementami wyznaczającymi trapez\n",
    "    \"\"\"\n",
    "    vis.add_point(((trapezoid.left_p.x,trapezoid.left_p.y),(trapezoid.right_p.x,trapezoid.right_p.y)),color=\"blue\")\n",
    "    upper=section_to_tuple(trapezoid.upper)\n",
    "    lower=section_to_tuple(trapezoid.lower)\n",
    "    left_x=trapezoid.left_p.x\n",
    "    Section.update_x(left_x)\n",
    "    left_lower=trapezoid.lower.at_x()\n",
    "    left_upper=trapezoid.upper.at_x()\n",
    "    left_vertical=(section_to_tuple(Section(left_lower,left_upper)))\n",
    "    right_x=trapezoid.right_p.x\n",
    "    Section.update_x(right_x)\n",
    "    right_lower=trapezoid.lower.at_x()\n",
    "    right_upper=trapezoid.upper.at_x()\n",
    "    right_vertical=(section_to_tuple(Section(right_lower,right_upper)))\n",
    "    vis.add_line_segment((upper,lower,left_vertical,right_vertical),color=color)\n",
    "    return vis"
   ]
  },
  {
   "cell_type": "code",
   "execution_count": 15,
   "id": "4d6edb27",
   "metadata": {
    "ExecuteTime": {
     "end_time": "2024-01-01T20:01:35.611876988Z",
     "start_time": "2024-01-01T20:01:35.172489066Z"
    }
   },
   "outputs": [],
   "source": [
    "def draw_trapezoid_with_neighbours(trapezoid,vis,neighbours):\n",
    "    \"\"\"\n",
    "    Funkcja rysuje wskazany trapez, wyróżniając jego sąsiadów.\n",
    "    :param trapezoid: trapez, który ma być narysowany\n",
    "    :param vis: wizualizer, do którego dodajemy elementy charakterystyczne trapezu\n",
    "    :param neighbours: poprzedni sąsiedzi ( do usunięcia z wizualizatora)\n",
    "    :return: krotka postaci (wizualizer z dodanymi odpowiednimi elementami wyznaczającymi trapez,\n",
    "    sąsiedzi tego trapezu wyróżnieni innymi kolorami)\n",
    "    \"\"\"\n",
    "    for neighbour in neighbours:\n",
    "        vis.remove_figure(neighbour)\n",
    "    vis.add_point(((trapezoid.left_p.x,trapezoid.left_p.y),(trapezoid.right_p.x,trapezoid.right_p.y)),color=\"blue\")\n",
    "    upper=section_to_tuple(trapezoid.upper)\n",
    "    lower=section_to_tuple(trapezoid.lower)\n",
    "    left_x=trapezoid.left_p.x\n",
    "    Section.update_x(left_x)\n",
    "    left_lower=trapezoid.lower.at_x()\n",
    "    left_upper=trapezoid.upper.at_x()\n",
    "    left_vertical=(section_to_tuple(Section(left_lower,left_upper)))\n",
    "    right_x=trapezoid.right_p.x\n",
    "    Section.update_x(right_x)\n",
    "    right_lower=trapezoid.lower.at_x()\n",
    "    right_upper=trapezoid.upper.at_x()\n",
    "    right_vertical=(section_to_tuple(Section(right_lower,right_upper)))\n",
    "    vis.add_line_segment((upper,lower,left_vertical,right_vertical),color=\"green\")\n",
    "    neighbours_to_delete=[]\n",
    "    if trapezoid.left_upper_neighbour:\n",
    "        neighbours_to_delete.append(draw_trapezoid(trapezoid.left_upper_neighbour,vis,\"orange\"))\n",
    "    if trapezoid.left_lower_neighbour:\n",
    "        neighbours_to_delete.append(draw_trapezoid(trapezoid.left_lower_neighbour,vis,\"yellow\"))\n",
    "    if trapezoid.right_lower_neighbour:\n",
    "        neighbours_to_delete.append(draw_trapezoid(trapezoid.right_lower_neighbour,vis,\"purple\"))\n",
    "    if trapezoid.right_upper_neighbour:\n",
    "        neighbours_to_delete.append(draw_trapezoid(trapezoid.right_upper_neighbour,vis,\"cyan\"))\n",
    "    return vis,neighbours_to_delete"
   ]
  },
  {
   "cell_type": "code",
   "execution_count": 16,
   "id": "6fa6a994",
   "metadata": {
    "scrolled": false,
    "ExecuteTime": {
     "end_time": "2024-01-01T20:01:35.612275201Z",
     "start_time": "2024-01-01T20:01:35.177148874Z"
    }
   },
   "outputs": [],
   "source": [
    "def section_to_tuple(section):\n",
    "    \"\"\"\n",
    "    Funkcja przekształca obiekt klasy Segment na krotkę krotek współrzędnych.\n",
    "    :param segment: odcinek jako obiekt klasy Segment\n",
    "    :return: krotka krotek współrzędnych\n",
    "    \"\"\"\n",
    "    L=section.L\n",
    "    R=section.R\n",
    "    return ((L.x,L.y),(R.x,R.y))"
   ]
  },
  {
   "cell_type": "markdown",
   "id": "60839afe",
   "metadata": {},
   "source": [
    "Poniżej funkcja rysująca całą mapę. Korzysta ona z pomocniczych funkcji ```draw_grid``` i ```draw_trapezoid```, użytych już wcześniej oraz funkcji pomocniczej ```find_all_trapezoids```, której kod jest w dalszej części."
   ]
  },
  {
   "cell_type": "code",
   "execution_count": 17,
   "id": "447c7784",
   "metadata": {
    "scrolled": false,
    "ExecuteTime": {
     "end_time": "2024-01-01T20:01:35.612642514Z",
     "start_time": "2024-01-01T20:01:35.192217752Z"
    }
   },
   "outputs": [],
   "source": [
    "def draw_map(D,R):\n",
    "    \"\"\"\n",
    "    Funkcja rysuje mapę trapezową dla danej struktury przeszukiwań D.\n",
    "    :param D: struktura przeszukiwań dla mapy trapezowej\n",
    "    :param R: ramka dla mapy trapezowej\n",
    "    :return: wizualizer z dodanymi wszystkimi elementami mapy \n",
    "    \"\"\"\n",
    "    vis=Visualizer()\n",
    "    trapezoids=[]\n",
    "    find_all_trapezoids(D.root,trapezoids)\n",
    "    for trapezoid in trapezoids:\n",
    "        vis=draw_trapezoid(trapezoid,vis)\n",
    "    vis=draw_grid(R,vis)\n",
    "    return vis"
   ]
  },
  {
   "cell_type": "code",
   "execution_count": 18,
   "id": "d7f74e3b",
   "metadata": {
    "scrolled": false,
    "ExecuteTime": {
     "end_time": "2024-01-01T20:01:35.613239637Z",
     "start_time": "2024-01-01T20:01:35.205911377Z"
    }
   },
   "outputs": [],
   "source": [
    "def find_all_trapezoids(node,trapezoids):\n",
    "    \"\"\"\n",
    "    Funkcja znajduje wszystkie trapezy mapy trapezowej, mając korzeń drzewa przeszukiwań.\n",
    "    :param node: węzeł drzewa przeszukiwań - początkowo korzeń\n",
    "    :param trapezoids: lista dotychczasowo znalezionych trapezów\n",
    "    \"\"\"\n",
    "    if node.kind==2:\n",
    "        trapezoids.append(node.label)\n",
    "    else:\n",
    "        find_all_trapezoids(node.left,trapezoids)\n",
    "        find_all_trapezoids(node.right,trapezoids)"
   ]
  },
  {
   "cell_type": "code",
   "execution_count": 22,
   "id": "f13b1b9b",
   "metadata": {
    "scrolled": false,
    "ExecuteTime": {
     "end_time": "2024-01-01T20:01:44.449272447Z",
     "start_time": "2024-01-01T20:01:44.248563157Z"
    }
   },
   "outputs": [],
   "source": [
    "%matplotlib tk\n",
    "\n",
    "interactive_sections=[]\n",
    "active=True\n",
    "used_x=set()\n",
    "active_points=set()\n",
    "current_points=[]\n",
    "last_point=None\n",
    "\n",
    "def draw_point(point):\n",
    "    \"\"\"\n",
    "    Funkcja rysuje punkt o współrzędnych przekazanych w argumencie.\n",
    "    :param point: punkt reprezentowany przez krotkę współrzędnych x, y odczytanych z kliknięcia myszki\n",
    "    \"\"\"\n",
    "    plt.scatter(point[0],point[1],color=\"red\")\n",
    "    plt.show()\n",
    "\n",
    "def draw_line(points):\n",
    "    \"\"\"\n",
    "    Funkcja rysuje odcinek między dwoma wskazanymi punktami.\n",
    "    :param points: tablica punktów (krotek współrzędnych), które są końcami odcinka\n",
    "    \"\"\"\n",
    "    ax=plt.gca()\n",
    "    x=[points[0][0],points[1][0]]\n",
    "    y=[points[0][1],points[1][1]]\n",
    "    line=ax.plot(x,y,color=\"red\") \n",
    "    ax.figure.canvas.draw()        \n",
    "\n",
    "def onclick(event):\n",
    "    \"\"\"\n",
    "    Funkcja obsługuje zdarzenie kliknięcia myszką, dodając końce odcinka\n",
    "    w kliknięte miejsca lub kończąc wprowadzanie odcinków\n",
    "    :param event: zdarzenie kliknięcia myszką, które przechowuje m. in. informacje \n",
    "    o klikniętym punkcie oraz to, który przycisk myszy został kliknięty\n",
    "    \"\"\"\n",
    "    global active\n",
    "    global current_points\n",
    "    global last_point\n",
    "\n",
    "    if event.dblclick and active:\n",
    "        if event.button==1:\n",
    "            x=event.xdata\n",
    "            y=event.ydata\n",
    "            if x in used_x and (x,y) not in active_points or (x,y)==last_point:\n",
    "                ax.set_title(\"Współrzędne x-owe nie mogą się powtarzać\\npoza końcami połączonych odcinków!\")\n",
    "                plt.pause(1.5)\n",
    "                ax.set_title(\"Kliknij dwukrotnie, aby dodać punkt.\\nKażda kolejna para punktów stworzy odcinek\")\n",
    "            else:\n",
    "                used_x.add(x)\n",
    "                active_points.add((x,y))\n",
    "                last_point=(x,y)\n",
    "                current_points.append((x,y))\n",
    "                draw_point((x,y))\n",
    "                if len(current_points)==2:\n",
    "                    last_point=None\n",
    "                    draw_line(current_points)\n",
    "                    interactive_sections.append((current_points[0],current_points[1]))\n",
    "                    current_points=[]\n",
    "        elif event.button==3:\n",
    "            if len(interactive_sections)<1:\n",
    "                ax.set_title(\"Dodaj jakikolwiek odcinek!\")\n",
    "                plt.pause(1.5)\n",
    "                ax.set_title(\"Kliknij dwukrotnie, aby dodać punkt.\\nKażda kolejna para punktów stworzy odcinek\")\n",
    "            else:\n",
    "                active=False\n",
    "                plt.pause(0.5)\n",
    "                ax.set_title(\"Dziękuję! Zamykam w ciągu 2 sekund\")\n",
    "                plt.pause(2)\n",
    "                plt.close()\n",
    "\n",
    "fig,ax=plt.subplots()\n",
    "plt.get_current_fig_manager().set_window_title(\"Wygeneruj własny zbiór odcinków!\")\n",
    "ax.set_title(\"Kliknij dwukrotnie, aby dodać punkt.\\nKażda kolejna para punktów stworzy odcinek\")\n",
    "connection_id=fig.canvas.mpl_connect(\"button_press_event\",onclick)\n",
    "ax.set_xlim([0,2])\n",
    "ax.set_ylim([0,2])\n",
    "ax.aspect=1\n",
    "plt.tight_layout()\n",
    "plt.ion()\n",
    "plt.show()"
   ]
  },
  {
   "cell_type": "code",
   "execution_count": 23,
   "id": "a458bc2e",
   "metadata": {
    "scrolled": false,
    "ExecuteTime": {
     "end_time": "2024-01-01T20:01:52.946546586Z",
     "start_time": "2024-01-01T20:01:52.759699222Z"
    }
   },
   "outputs": [
    {
     "data": {
      "text/plain": "<Figure size 640x480 with 1 Axes>",
      "image/png": "[encoded data removed]"
     },
     "metadata": {},
     "output_type": "display_data"
    }
   ],
   "source": [
    "%matplotlib inline\n",
    "vis=Visualizer()\n",
    "vis.add_line_segment(interactive_sections)\n",
    "vis.add_point([interactive_sections[i//2][i%2] for i in range(2*len(interactive_sections))])\n",
    "vis.show()"
   ]
  },
  {
   "cell_type": "code",
   "execution_count": 24,
   "id": "4b5d9cf0",
   "metadata": {
    "scrolled": false,
    "ExecuteTime": {
     "end_time": "2024-01-01T20:01:55.805158080Z",
     "start_time": "2024-01-01T20:01:54.561515083Z"
    }
   },
   "outputs": [
    {
     "data": {
      "text/plain": "<Figure size 640x480 with 1 Axes>",
      "image/png": "[encoded data removed]"
     },
     "metadata": {},
     "output_type": "display_data"
    },
    {
     "data": {
      "text/plain": "<Figure size 640x480 with 1 Axes>",
      "image/png": "[encoded data removed]"
     },
     "metadata": {},
     "output_type": "display_data"
    },
    {
     "data": {
      "text/plain": "<Figure size 640x480 with 1 Axes>",
      "image/png": "[encoded data removed]"
     },
     "metadata": {},
     "output_type": "display_data"
    },
    {
     "data": {
      "text/plain": "<Figure size 640x480 with 1 Axes>",
      "image/png": "[encoded data removed]"
     },
     "metadata": {},
     "output_type": "display_data"
    },
    {
     "data": {
      "text/plain": "<Figure size 640x480 with 1 Axes>",
      "image/png": "[encoded data removed]"
     },
     "metadata": {},
     "output_type": "display_data"
    }
   ],
   "source": [
    "S=[]\n",
    "n=len(interactive_sections)\n",
    "for i in range(n):\n",
    "    L=Point(interactive_sections[i][0][0],interactive_sections[i][0][1])\n",
    "    R=Point(interactive_sections[i][1][0],interactive_sections[i][1][1])\n",
    "    S.append(Section(L,R))\n",
    "T,D,R=trapezoidal_map(S)"
   ]
  },
  {
   "cell_type": "code",
   "execution_count": 25,
   "id": "3402844c",
   "metadata": {
    "ExecuteTime": {
     "end_time": "2024-01-01T20:02:01.601637534Z",
     "start_time": "2024-01-01T20:02:01.319347234Z"
    }
   },
   "outputs": [
    {
     "data": {
      "text/plain": "<Figure size 640x480 with 1 Axes>",
      "image/png": "[encoded data removed]"
     },
     "metadata": {},
     "output_type": "display_data"
    }
   ],
   "source": [
    "vis=draw_map(D,R)\n",
    "vis.show()"
   ]
  },
  {
   "cell_type": "code",
   "execution_count": null,
   "id": "85906489",
   "metadata": {
    "ExecuteTime": {
     "start_time": "2024-01-01T20:01:36.206946202Z"
    }
   },
   "outputs": [],
   "source": [
    "point=Point(0.6,1.0)\n",
    "vis=draw_trapezoid_and_point(point,D,R)\n",
    "vis.show()"
   ]
  },
  {
   "cell_type": "code",
   "execution_count": null,
   "id": "7ac857d7",
   "metadata": {
    "scrolled": false,
    "ExecuteTime": {
     "start_time": "2024-01-01T20:01:36.207177367Z"
    }
   },
   "outputs": [],
   "source": [
    "point=Point(1.0,0.6)\n",
    "vis=draw_trapezoid_and_point(point,D,R)\n",
    "vis.show()"
   ]
  },
  {
   "cell_type": "code",
   "execution_count": null,
   "id": "13cf8335",
   "metadata": {
    "scrolled": false,
    "ExecuteTime": {
     "start_time": "2024-01-01T20:01:36.207344755Z"
    }
   },
   "outputs": [],
   "source": [
    "point=Point(0.6,1.75)\n",
    "vis=draw_trapezoid_and_point(point,D,R)\n",
    "vis.show()"
   ]
  },
  {
   "cell_type": "code",
   "execution_count": null,
   "id": "3dfca378",
   "metadata": {
    "scrolled": false,
    "ExecuteTime": {
     "start_time": "2024-01-01T20:01:36.207513932Z"
    }
   },
   "outputs": [],
   "source": [
    "point=Point(0.2,1.0)\n",
    "vis=draw_trapezoid_and_point(point,D,R)\n",
    "vis.show()"
   ]
  },
  {
   "cell_type": "code",
   "execution_count": null,
   "id": "8d352701",
   "metadata": {
    "scrolled": false,
    "ExecuteTime": {
     "start_time": "2024-01-01T20:01:36.207641755Z"
    }
   },
   "outputs": [],
   "source": [
    "point=Point(1.25,1.5)\n",
    "vis=draw_trapezoid_and_point(point,D,R)\n",
    "vis.show()"
   ]
  },
  {
   "cell_type": "code",
   "execution_count": null,
   "id": "810eaeea",
   "metadata": {
    "scrolled": false,
    "ExecuteTime": {
     "start_time": "2024-01-01T20:01:36.207734516Z"
    }
   },
   "outputs": [],
   "source": [
    "point=Point(1.25,0.25)\n",
    "vis=draw_trapezoid_and_point(point,D,R)\n",
    "vis.show()"
   ]
  },
  {
   "cell_type": "code",
   "execution_count": null,
   "id": "0a449adf",
   "metadata": {
    "scrolled": false,
    "ExecuteTime": {
     "start_time": "2024-01-01T20:01:36.207845611Z"
    }
   },
   "outputs": [],
   "source": [
    "point=Point(1.65,1.2)\n",
    "vis=draw_trapezoid_and_point(point,D,R)\n",
    "vis.show()"
   ]
  },
  {
   "cell_type": "code",
   "execution_count": null,
   "id": "6286eccc",
   "metadata": {
    "scrolled": false,
    "ExecuteTime": {
     "start_time": "2024-01-01T20:01:36.207958445Z"
    }
   },
   "outputs": [],
   "source": []
  }
 ],
 "metadata": {
  "kernelspec": {
   "display_name": "Python 3 (ipykernel)",
   "language": "python",
   "name": "python3"
  },
  "language_info": {
   "codemirror_mode": {
    "name": "ipython",
    "version": 3
   },
   "file_extension": ".py",
   "mimetype": "text/x-python",
   "name": "python",
   "nbconvert_exporter": "python",
   "pygments_lexer": "ipython3",
   "version": "3.9.18"
  }
 },
 "nbformat": 4,
 "nbformat_minor": 5
}
