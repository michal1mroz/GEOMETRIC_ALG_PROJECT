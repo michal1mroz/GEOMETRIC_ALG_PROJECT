{
 "cells": [
  {
   "cell_type": "markdown",
   "id": "9cf5624e",
   "metadata": {},
   "source": [
    "# Lokalizacja punktu w przestrzeni dwuwymiarowej – metoda trapezowa "
   ]
  },
  {
   "cell_type": "markdown",
   "id": "0d09ef58",
   "metadata": {},
   "source": [
    "## Wprowadzenie do problemu lokalizacji punktu na płaszczyźnie\n",
    "### Dane:\n",
    "Poligonowy podział płaszczyzny (tzw. podział planarny) $S$. Należy go przetworzyć (zapisując wyniki w odpowiedniej strukturze\n",
    "danych) tak, aby umożliwić efektywne osiągnięcie celu.\n",
    "### Cel:\n",
    "Odszukanie wielokąta (ściany) zawierającego zadany punkt.\n",
    "\n",
    "Możliwa jest sytuacja, że zadany punkt nie leży wewnątrz żadnej ze ścian. Aby uwzględnić taki przypadek, umieszczamy nasz podział w odpowiednio dużym prostokącie $R$. Wtedy w razie takiej sytuacji wskażemy obszar wyznaczony przez ten prostokąt."
   ]
  },
  {
   "cell_type": "markdown",
   "id": "5ee49e9e",
   "metadata": {},
   "source": [
    "## Metoda trapezowa\n",
    "W przypadku podejścia do rozwiązania przedstawionego powyżej problemu metodą trapezową, podział płaszczyzny będzie reprezentowany przez zbiór odcinków $S$={$s$<sub>1</sub>,$s$<sub>2</sub>,...,$s$<sub>n</sub>}. Poczynione założenia:\n",
    "- odcinki nie przecinają się, poza ewentualnie wierzchołkami\n",
    "- żaden odcinek nie jest pionowy\n",
    "- wierzchołki żadnych dwóch odcinków nie mają takiej samej współrzędnej x (poza końcami połączonych odcinków)\n",
    "\n",
    "Drugie i trzecie założenie wskazują na to, że zbiór odcinków $S$ jest w położeniu ogólnym.\n",
    "\n",
    "### Mapa trapezowa\n",
    "Mapa trapezowa $T$($S$) jest podziałem $S$ na wielokąty wypukłe (trapezy lub trójkąty; będziemy je nazywać *trapezami*, traktując trójkąt jako zdegenerowany trapez, w którym jeden z boków zredukował się do zera) otrzymanym przez poprowadzenie dwóch rozszerzeń (odcinków) pionowych z każdego końca odcinka w $S$. Rozszerzenia kończą się, gdy napotkają inny odcinek $S$ lub\n",
    "brzeg prostokąta (ramki) $R$. \n",
    "\n",
    "#### Struktury używane w ramach algorytmu przedstawione są w pliku DataStructures."
   ]
  },
  {
   "cell_type": "code",
   "execution_count": 1,
   "id": "ba01bbae24998e8b",
   "metadata": {
    "ExecuteTime": {
     "end_time": "2023-12-31T13:12:35.647979320Z",
     "start_time": "2023-12-31T13:12:35.145527431Z"
    }
   },
   "outputs": [],
   "source": [
    "# importy\n",
    "from util import *\n",
    "from DataStructures import *\n",
    "#import tkinter as tk\n",
    "#import matplotlib.pyplot as plt\n",
    "#from ipywidgets import Button, HBox, Output\n",
    "from plotter import Presenter, Plotter\n",
    "import tkinter as tk\n",
    "\n",
    "from vis_bit.main import Visualizer\n",
    "#from vis_bit.main import Visualizer"
   ]
  },
  {
   "cell_type": "markdown",
   "id": "83e36a6e",
   "metadata": {},
   "source": [
    "## Algorytmy potrzebne do rozwiązania problemu\n",
    "### Randomizowany algorytm przyrostowy\n",
    "Ideą tego algorytmu jest to, że przetwarzamy odcinki ze zbioru $S$ w losowej kolejności (bierzemy dowolną permutację). Dla pewnych przypadków otrzymana struktura przeszukiwań $D$ ma rozmiar kwadratowy i liniowy czas przeszukiwania, ale dla innych permutacji złożoności tych operacji będą dużo lepsze. Analiza złożoności tego algorytmu jest probabilistyczna. Jak się okazuje, oczekiwana złożoność czasowa konstrukcji mapy trapezowej to ```O(nlogn)```, oczekiwany rozmiar struktury przeszukiwań to ```O(n)```, natomiast oczekiwany czas zapytania dla dowolnego punktu to ```O(logn)```, gdzie *n* oznacza liczbę odcinków ze zbioru $S$, dla którego tę strukturę przygotowujemy.\n",
    "\n",
    "#### Kod do pomocniczych funkcji znajduje się w pliku util. \n",
    "## Główna funkcja"
   ]
  },
  {
   "cell_type": "code",
   "execution_count": 2,
   "id": "65c2b916",
   "metadata": {
    "ExecuteTime": {
     "end_time": "2023-12-31T13:12:35.664739031Z",
     "start_time": "2023-12-31T13:12:35.653193598Z"
    }
   },
   "outputs": [],
   "source": [
    "def createTrapezoidalMap(segments):\n",
    "    S = []    \n",
    "    for i in permute(segments):    \n",
    "        p1 = Point(i[0][0], i[0][1])\n",
    "        p2 = Point(i[1][0], i[1][1])\n",
    "        S.append(Segment(p1, p2))\n",
    "    \n",
    "    R = createOuter(segments)\n",
    "    rootNode = DNode('tnode', R)\n",
    "    T = DTree(rootNode)\n",
    "    \n",
    "    for segment in S:  \n",
    "        intersectedTrapezoids = followSegment(T, segment)\n",
    "        if len(intersectedTrapezoids) == 1:\n",
    "            insertIntoOne(T, intersectedTrapezoids[0], segment)\n",
    "        else:\n",
    "            insertIntoMany(T, intersectedTrapezoids, segment)   \n",
    "    return T"
   ]
  },
  {
   "cell_type": "markdown",
   "id": "3bb8b01444c878e7",
   "metadata": {},
   "source": [
    "## Dodawanie do jednego trapezu"
   ]
  },
  {
   "cell_type": "code",
   "execution_count": 3,
   "id": "f4315071ccad289e",
   "metadata": {
    "ExecuteTime": {
     "end_time": "2023-12-31T13:12:35.696959483Z",
     "start_time": "2023-12-31T13:12:35.663315123Z"
    }
   },
   "outputs": [],
   "source": [
    "def insertIntoOne(T: DTree  , trapezoid : Trapezoid, segment : Segment):\n",
    "    p, q = segment.left, segment.right\n",
    "    bottomLeft = trapezoid.bottomLeft\n",
    "    bottomRight = trapezoid.bottomRight\n",
    "    topLeft = trapezoid.topLeft\n",
    "    topRight = trapezoid.topRight\n",
    "    \n",
    "    left, right = None, None\n",
    "    top = Trapezoid(trapezoid.topSegment, segment, p, q)\n",
    "    bottom = Trapezoid(segment, trapezoid.bottomSegment, p, q)\n",
    "    \n",
    "    if trapezoid.leftPoint < p:\n",
    "        left = Trapezoid(trapezoid.topSegment, trapezoid.bottomSegment, trapezoid.leftPoint, p)\n",
    "        left.bottomLeft = bottomLeft\n",
    "        left.topLeft = topLeft\n",
    "        left.topRight = top\n",
    "        left.bottomRight = bottom\n",
    "        top.topLeft = left\n",
    "        bottom.bottomLeft = left\n",
    "        updateLeft(trapezoid, left)\n",
    "    else:\n",
    "        Segment.updateX(p.x)\n",
    "        bottom.bottomLeft = bottomLeft\n",
    "        top.topLeft = topLeft\n",
    "        if bottomLeft:\n",
    "            bottomLeft.bottomRight = bottom\n",
    "            if bottomLeft.topSegment > segment:\n",
    "                bottomLeft.topRight = top\n",
    "                top.bottomLeft = bottomLeft\n",
    "        if topLeft:\n",
    "            topLeft.topRight = top\n",
    "            if segment > topLeft.bottomSegment:\n",
    "                topLeft.bottomRight = bottom\n",
    "                bottom.topLeft = topLeft\n",
    "                \n",
    "    if trapezoid.rightPoint > q:\n",
    "        right = Trapezoid(trapezoid.topSegment, trapezoid.bottomSegment, segment.rightPoint, trapezoid.rightPoint)\n",
    "        right.bottomRight = bottomRight\n",
    "        right.topRight = topRight\n",
    "        right.bottomLeft = bottom\n",
    "        right.topLeft = top\n",
    "        top.topRight = right\n",
    "        bottom.bottomRight = right\n",
    "        updateRight(trapezoid, right)\n",
    "    else:\n",
    "        Segment.updateX(q.x)\n",
    "        bottom.bottomRight = bottomRight\n",
    "        top.topRight = topRight\n",
    "        if bottomRight:\n",
    "            bottomRight.bottomLeft = bottom\n",
    "            if bottomRight.topSegment > segment:\n",
    "                bottomRight.topLeft = top\n",
    "                top.bottomRight = bottomRight\n",
    "        if topRight:\n",
    "            topRight.topLeft = top\n",
    "            if segment > topRight.bottomSegment:\n",
    "                topRight.bottomLeft = bottom\n",
    "                bottom.topRight = topRight\n",
    "                \n",
    "    updateTreeOne(trapezoid, segment, left, top, bottom, right)\n",
    "                "
   ]
  },
  {
   "cell_type": "markdown",
   "id": "d85bc957",
   "metadata": {},
   "source": [
    "## Dodawanie do wielu trapezów"
   ]
  },
  {
   "cell_type": "code",
   "execution_count": 4,
   "id": "4d50a481",
   "metadata": {
    "ExecuteTime": {
     "end_time": "2023-12-31T13:12:35.735694676Z",
     "start_time": "2023-12-31T13:12:35.724465632Z"
    }
   },
   "outputs": [],
   "source": [
    "def insertIntoMany (T, trapezoids: list[Trapezoid], segment: Segment):\n",
    "    p, q = segment.left, segment.right\n",
    "    left, right = None, None\n",
    "    newTrapezoidsAbove = []\n",
    "    newTrapezoidsBelow = []\n",
    "    n = len(trapezoids)\n",
    "    first = trapezoids[0]\n",
    "    bottomLeft = first.bottomLeft\n",
    "    topLeft = first.topLeft\n",
    "    topRight = first.topRight\n",
    "    bottomRight = first.bottomRight\n",
    "    Segment.updateX(first.rightPoint.x)\n",
    "    \n",
    "    if segment.isAbove(first.rightPoint):\n",
    "        top = Trapezoid(first.topSegment, segment, p, first.rightPoint)\n",
    "        bottom = Trapezoid(segment, first.bottomSegment, p, Point(Segment.x, segment.getY(Segment.x)))\n",
    "        merge = \"lower\"\n",
    "    else:\n",
    "        top = Trapezoid(first.topSegment, segment, p, Point(Segment.x, segment.getY(Segment.x)))\n",
    "        bottom = Trapezoid(segment, first.bottomSegment, p, first.rightPoint)\n",
    "        merge = \"upper\"\n",
    "        \n",
    "    if first.leftPoint < p:\n",
    "        left = Trapezoid(first.topSegment, first.bottomSegment, first.leftPoint, p)\n",
    "        left.bottomLeft = bottomLeft\n",
    "        left.topLeft = topLeft\n",
    "        left.topRight = top\n",
    "        left.bottomRight = bottom\n",
    "        top.topLeft = left\n",
    "        bottom.bottomLeft = left\n",
    "        updateLeft(first, left)    \n",
    "    else:           \n",
    "        bottom.bottomLeft = bottomLeft\n",
    "        top.topLeft = topLeft\n",
    "        if bottomLeft:\n",
    "            bottomLeft.bottomRight = bottom\n",
    "            if bottomLeft.topSegment > segment:\n",
    "                bottomLeft.topRight = top\n",
    "                top.bottomLeft = bottomLeft\n",
    "        if topLeft:\n",
    "            topLeft.topRight = top\n",
    "            if segment > topLeft.bottomSegment:\n",
    "                topLeft.bottomRight = bottom\n",
    "                bottom.topLeft = topLeft\n",
    "                             \n",
    "    if trapezoids[1] == first.bottomRight:\n",
    "        top.topRight = topRight\n",
    "        if topRight:\n",
    "            topRight.topLeft = top\n",
    "    else:\n",
    "        bottom.bottomRight = bottomRight\n",
    "        if bottomRight:\n",
    "            bottomRight.bottomLeft = bottom\n",
    "    \n",
    "    newTrapezoidsAbove.append(top)\n",
    "    newTrapezoidsBelow.append(bottom)\n",
    "    \n",
    "    for i in range(1, n-1):\n",
    "        nextPoint = trapezoids[i].rightPoint\n",
    "        bottomLeft = trapezoids[i].bottomLeft\n",
    "        topLeft = trapezoids[i].topLeft\n",
    "        topRight = trapezoids[i].topRight\n",
    "        bottomRight = trapezoids[i].bottomRight\n",
    "        Segment.updateX(nextPoint.x)\n",
    "        \n",
    "        if segment.isAbove(nextPoint):\n",
    "            lowerRightPoint = Point(Segment.x, segment.getY(Segment.x))\n",
    "            if merge == \"upper\":\n",
    "                top.rightPoint = nextPoint\n",
    "                t = Trapezoid(segment, trapezoids[i].bottomSegment, bottom.rightPoint, lowerRightPoint)\n",
    "                bottom.topRight = t\n",
    "                t.topLeft = bottom\n",
    "                t.bottomLeft = bottomLeft\n",
    "                if bottomLeft:\n",
    "                    bottomLeft.bottomRight = t\n",
    "                top.topRight = topRight\n",
    "                if topRight:\n",
    "                    topRight.topLeft = top\n",
    "                bottom = t\n",
    "                newTrapezoidsBelow.append(bottom)\n",
    "            else:\n",
    "                bottom.rightPoint = lowerRightPoint\n",
    "                t = Trapezoid(trapezoids[i].topSegment, segment, top.rightPoint, nextPoint)\n",
    "                top.bottomRight = t\n",
    "                t.bottomLeft = top\n",
    "                t.topLeft = topLeft\n",
    "                t.topRight = topRight\n",
    "                if topLeft:\n",
    "                    topLeft.topRight = t\n",
    "                if topRight:\n",
    "                    topRight.topLeft = t\n",
    "                top = t\n",
    "                newTrapezoidsAbove.append(top)\n",
    "            merge = \"lower\"   \n",
    "        else:\n",
    "            upperRightPoint = Point(Segment.x, segment.getY(Segment.x))\n",
    "            if merge == \"upper\":\n",
    "                top.rightPoint = upperRightPoint\n",
    "                t = Trapezoid(segment, trapezoids[i].bottomSegment, bottom.rightPoint, nextPoint)\n",
    "                bottom.topRight = t\n",
    "                t.topLeft = bottom\n",
    "                t.bottomLeft = bottomLeft\n",
    "                t.bottomRight = bottomRight\n",
    "                if bottomLeft:\n",
    "                    bottomLeft.bottomRight = t\n",
    "                if bottomRight:\n",
    "                    bottomRight.bottomLeft = t\n",
    "                bottom = t\n",
    "                newTrapezoidsBelow.append(bottom)\n",
    "            else:\n",
    "                bottom.rightPoint = nextPoint\n",
    "                t = Trapezoid(trapezoids[i].topSegment, segment, top.rightPoint, upperRightPoint)\n",
    "                top.bottomRight = t\n",
    "                t.bottomLeft = top\n",
    "                t.topLeft = topLeft\n",
    "                if topLeft:\n",
    "                    topLeft.topRight = t\n",
    "                bottom.bottomRight = bottomRight\n",
    "                if bottomRight:\n",
    "                    bottomRight.bottomLeft = bottom\n",
    "                top = t\n",
    "                newTrapezoidsAbove.append(top)\n",
    "            merge=\"upper\"\n",
    "            \n",
    "    last = trapezoids[n-1]\n",
    "    bottomLeft = last.bottomLeft\n",
    "    topLeft = last.topLeft\n",
    "    topRight = last.topRight\n",
    "    bottomRight = last.bottomRight\n",
    "    Segment.updateX(last.rightPoint)\n",
    "        \n",
    "    if merge == \"upper\":\n",
    "        top.rightPoint = q\n",
    "        t = Trapezoid(segment, last.bottomSegment, bottom.rightPoint, q)\n",
    "        bottom.topRight = t\n",
    "        t.topLeft = bottom\n",
    "        bottom = t\n",
    "        newTrapezoidsBelow.append(bottom)\n",
    "    else:\n",
    "        bottom.rightPoint = q\n",
    "        t = Trapezoid(last.topSegment, segment, top.rightPoint, q)\n",
    "        top.bottomRight = t\n",
    "        t.bottomLeft = top\n",
    "        top = t\n",
    "        newTrapezoidsAbove.append(top)\n",
    "        \n",
    "    if last.rightPoint > q:\n",
    "        right = Trapezoid(last.topSegment, last.bottomSegment, q, last.rightPoint)\n",
    "        right.bottomLeft = bottom\n",
    "        right.topLeft = top\n",
    "        right.topRight = topRight\n",
    "        right.bottomRight = bottomRight\n",
    "        top.topRight = right\n",
    "        bottom.bottomRight = right\n",
    "        updateRight(last, right)\n",
    "    else:\n",
    "        top.topRight = topRight\n",
    "        bottom.bottomRight = bottomRight\n",
    "        if bottomRight:\n",
    "            bottomRight.bottomLeft = bottom\n",
    "            if bottomRight.topSegment > segment:\n",
    "                bottomRight.topLeft = top\n",
    "                top.bottomRight = bottomRight\n",
    "        if topRight:\n",
    "            topRight.topLeft = top\n",
    "            if segment > topRight.bottomSegment:\n",
    "                topRight.bottomLeft = bottom\n",
    "                bottom.topRight = topRight\n",
    "                \n",
    "    if last == trapezoids[n-2].topRight:\n",
    "        bottom.bottomLeft = bottomLeft\n",
    "        if bottomLeft:\n",
    "            bottomLeft.bottomRight = bottom\n",
    "    else:\n",
    "        top.topLeft = topLeft\n",
    "        if topLeft:\n",
    "            topLeft.topRight = top\n",
    "            \n",
    "    updateTreeMany(trapezoids, segment, newTrapezoidsAbove, newTrapezoidsBelow, left, right)"
   ]
  },
  {
   "cell_type": "markdown",
   "id": "6612dac4bb1562dc",
   "metadata": {},
   "source": [
    "## Tworzenie mapy trapezowej wraz z wizualizacją\n",
    "to do kiedy będzie zrobiona wizualizacja. Zostawiłem tę część poniżej, ale pewnie będzie jeszcze przerobiona"
   ]
  },
  {
   "cell_type": "code",
   "execution_count": 5,
   "outputs": [
    {
     "ename": "NameError",
     "evalue": "name 'scenes' is not defined",
     "output_type": "error",
     "traceback": [
      "\u001B[0;31m---------------------------------------------------------------------------\u001B[0m",
      "\u001B[0;31mNameError\u001B[0m                                 Traceback (most recent call last)",
      "Cell \u001B[0;32mIn[5], line 2\u001B[0m\n\u001B[1;32m      1\u001B[0m get_ipython()\u001B[38;5;241m.\u001B[39mrun_line_magic(\u001B[38;5;124m'\u001B[39m\u001B[38;5;124mmatplotlib\u001B[39m\u001B[38;5;124m'\u001B[39m, \u001B[38;5;124m'\u001B[39m\u001B[38;5;124mnotebook\u001B[39m\u001B[38;5;124m'\u001B[39m)\n\u001B[0;32m----> 2\u001B[0m presenter \u001B[38;5;241m=\u001B[39m Presenter(\u001B[43mscenes\u001B[49m)\n\u001B[1;32m      3\u001B[0m presenter\u001B[38;5;241m.\u001B[39mdisplay()\n",
      "\u001B[0;31mNameError\u001B[0m: name 'scenes' is not defined"
     ]
    }
   ],
   "source": [
    "%matplotlib notebook\n",
    "presenter = Presenter(scenes)\n",
    "presenter.display()\n"
   ],
   "metadata": {
    "collapsed": false,
    "ExecuteTime": {
     "end_time": "2023-12-31T13:12:35.950486110Z",
     "start_time": "2023-12-31T13:12:35.730849885Z"
    }
   },
   "id": "181b29391e82b21"
  },
  {
   "cell_type": "code",
   "execution_count": 6,
   "outputs": [
    {
     "data": {
      "text/plain": "<IPython.core.display.Javascript object>",
      "application/javascript": "/* Put everything inside the global mpl namespace */\n/* global mpl */\nwindow.mpl = {};\n\nmpl.get_websocket_type = function () {\n    if (typeof WebSocket !== 'undefined') {\n        return WebSocket;\n    } else if (typeof MozWebSocket !== 'undefined') {\n        return MozWebSocket;\n    } else {\n        alert(\n            'Your browser does not have WebSocket support. ' +\n                'Please try Chrome, Safari or Firefox ≥ 6. ' +\n                'Firefox 4 and 5 are also supported but you ' +\n                'have to enable WebSockets in about:config.'\n        );\n    }\n};\n\nmpl.figure = function (figure_id, websocket, ondownload, parent_element) {\n    this.id = figure_id;\n\n    this.ws = websocket;\n\n    this.supports_binary = this.ws.binaryType !== undefined;\n\n    if (!this.supports_binary) {\n        var warnings = document.getElementById('mpl-warnings');\n        if (warnings) {\n            warnings.style.display = 'block';\n            warnings.textContent =\n                'This browser does not support binary websocket messages. ' +\n                'Performance may be slow.';\n        }\n    }\n\n    this.imageObj = new Image();\n\n    this.context = undefined;\n    this.message = undefined;\n    this.canvas = undefined;\n    this.rubberband_canvas = undefined;\n    this.rubberband_context = undefined;\n    this.format_dropdown = undefined;\n\n    this.image_mode = 'full';\n\n    this.root = document.createElement('div');\n    this.root.setAttribute('style', 'display: inline-block');\n    this._root_extra_style(this.root);\n\n    parent_element.appendChild(this.root);\n\n    this._init_header(this);\n    this._init_canvas(this);\n    this._init_toolbar(this);\n\n    var fig = this;\n\n    this.waiting = false;\n\n    this.ws.onopen = function () {\n        fig.send_message('supports_binary', { value: fig.supports_binary });\n        fig.send_message('send_image_mode', {});\n        if (fig.ratio !== 1) {\n            fig.send_message('set_device_pixel_ratio', {\n                device_pixel_ratio: fig.ratio,\n            });\n        }\n        fig.send_message('refresh', {});\n    };\n\n    this.imageObj.onload = function () {\n        if (fig.image_mode === 'full') {\n            // Full images could contain transparency (where diff images\n            // almost always do), so we need to clear the canvas so that\n            // there is no ghosting.\n            fig.context.clearRect(0, 0, fig.canvas.width, fig.canvas.height);\n        }\n        fig.context.drawImage(fig.imageObj, 0, 0);\n    };\n\n    this.imageObj.onunload = function () {\n        fig.ws.close();\n    };\n\n    this.ws.onmessage = this._make_on_message_function(this);\n\n    this.ondownload = ondownload;\n};\n\nmpl.figure.prototype._init_header = function () {\n    var titlebar = document.createElement('div');\n    titlebar.classList =\n        'ui-dialog-titlebar ui-widget-header ui-corner-all ui-helper-clearfix';\n    var titletext = document.createElement('div');\n    titletext.classList = 'ui-dialog-title';\n    titletext.setAttribute(\n        'style',\n        'width: 100%; text-align: center; padding: 3px;'\n    );\n    titlebar.appendChild(titletext);\n    this.root.appendChild(titlebar);\n    this.header = titletext;\n};\n\nmpl.figure.prototype._canvas_extra_style = function (_canvas_div) {};\n\nmpl.figure.prototype._root_extra_style = function (_canvas_div) {};\n\nmpl.figure.prototype._init_canvas = function () {\n    var fig = this;\n\n    var canvas_div = (this.canvas_div = document.createElement('div'));\n    canvas_div.setAttribute('tabindex', '0');\n    canvas_div.setAttribute(\n        'style',\n        'border: 1px solid #ddd;' +\n            'box-sizing: content-box;' +\n            'clear: both;' +\n            'min-height: 1px;' +\n            'min-width: 1px;' +\n            'outline: 0;' +\n            'overflow: hidden;' +\n            'position: relative;' +\n            'resize: both;' +\n            'z-index: 2;'\n    );\n\n    function on_keyboard_event_closure(name) {\n        return function (event) {\n            return fig.key_event(event, name);\n        };\n    }\n\n    canvas_div.addEventListener(\n        'keydown',\n        on_keyboard_event_closure('key_press')\n    );\n    canvas_div.addEventListener(\n        'keyup',\n        on_keyboard_event_closure('key_release')\n    );\n\n    this._canvas_extra_style(canvas_div);\n    this.root.appendChild(canvas_div);\n\n    var canvas = (this.canvas = document.createElement('canvas'));\n    canvas.classList.add('mpl-canvas');\n    canvas.setAttribute(\n        'style',\n        'box-sizing: content-box;' +\n            'pointer-events: none;' +\n            'position: relative;' +\n            'z-index: 0;'\n    );\n\n    this.context = canvas.getContext('2d');\n\n    var backingStore =\n        this.context.backingStorePixelRatio ||\n        this.context.webkitBackingStorePixelRatio ||\n        this.context.mozBackingStorePixelRatio ||\n        this.context.msBackingStorePixelRatio ||\n        this.context.oBackingStorePixelRatio ||\n        this.context.backingStorePixelRatio ||\n        1;\n\n    this.ratio = (window.devicePixelRatio || 1) / backingStore;\n\n    var rubberband_canvas = (this.rubberband_canvas = document.createElement(\n        'canvas'\n    ));\n    rubberband_canvas.setAttribute(\n        'style',\n        'box-sizing: content-box;' +\n            'left: 0;' +\n            'pointer-events: none;' +\n            'position: absolute;' +\n            'top: 0;' +\n            'z-index: 1;'\n    );\n\n    // Apply a ponyfill if ResizeObserver is not implemented by browser.\n    if (this.ResizeObserver === undefined) {\n        if (window.ResizeObserver !== undefined) {\n            this.ResizeObserver = window.ResizeObserver;\n        } else {\n            var obs = _JSXTOOLS_RESIZE_OBSERVER({});\n            this.ResizeObserver = obs.ResizeObserver;\n        }\n    }\n\n    this.resizeObserverInstance = new this.ResizeObserver(function (entries) {\n        var nentries = entries.length;\n        for (var i = 0; i < nentries; i++) {\n            var entry = entries[i];\n            var width, height;\n            if (entry.contentBoxSize) {\n                if (entry.contentBoxSize instanceof Array) {\n                    // Chrome 84 implements new version of spec.\n                    width = entry.contentBoxSize[0].inlineSize;\n                    height = entry.contentBoxSize[0].blockSize;\n                } else {\n                    // Firefox implements old version of spec.\n                    width = entry.contentBoxSize.inlineSize;\n                    height = entry.contentBoxSize.blockSize;\n                }\n            } else {\n                // Chrome <84 implements even older version of spec.\n                width = entry.contentRect.width;\n                height = entry.contentRect.height;\n            }\n\n            // Keep the size of the canvas and rubber band canvas in sync with\n            // the canvas container.\n            if (entry.devicePixelContentBoxSize) {\n                // Chrome 84 implements new version of spec.\n                canvas.setAttribute(\n                    'width',\n                    entry.devicePixelContentBoxSize[0].inlineSize\n                );\n                canvas.setAttribute(\n                    'height',\n                    entry.devicePixelContentBoxSize[0].blockSize\n                );\n            } else {\n                canvas.setAttribute('width', width * fig.ratio);\n                canvas.setAttribute('height', height * fig.ratio);\n            }\n            /* This rescales the canvas back to display pixels, so that it\n             * appears correct on HiDPI screens. */\n            canvas.style.width = width + 'px';\n            canvas.style.height = height + 'px';\n\n            rubberband_canvas.setAttribute('width', width);\n            rubberband_canvas.setAttribute('height', height);\n\n            // And update the size in Python. We ignore the initial 0/0 size\n            // that occurs as the element is placed into the DOM, which should\n            // otherwise not happen due to the minimum size styling.\n            if (fig.ws.readyState == 1 && width != 0 && height != 0) {\n                fig.request_resize(width, height);\n            }\n        }\n    });\n    this.resizeObserverInstance.observe(canvas_div);\n\n    function on_mouse_event_closure(name) {\n        /* User Agent sniffing is bad, but WebKit is busted:\n         * https://bugs.webkit.org/show_bug.cgi?id=144526\n         * https://bugs.webkit.org/show_bug.cgi?id=181818\n         * The worst that happens here is that they get an extra browser\n         * selection when dragging, if this check fails to catch them.\n         */\n        var UA = navigator.userAgent;\n        var isWebKit = /AppleWebKit/.test(UA) && !/Chrome/.test(UA);\n        if(isWebKit) {\n            return function (event) {\n                /* This prevents the web browser from automatically changing to\n                 * the text insertion cursor when the button is pressed. We\n                 * want to control all of the cursor setting manually through\n                 * the 'cursor' event from matplotlib */\n                event.preventDefault()\n                return fig.mouse_event(event, name);\n            };\n        } else {\n            return function (event) {\n                return fig.mouse_event(event, name);\n            };\n        }\n    }\n\n    canvas_div.addEventListener(\n        'mousedown',\n        on_mouse_event_closure('button_press')\n    );\n    canvas_div.addEventListener(\n        'mouseup',\n        on_mouse_event_closure('button_release')\n    );\n    canvas_div.addEventListener(\n        'dblclick',\n        on_mouse_event_closure('dblclick')\n    );\n    // Throttle sequential mouse events to 1 every 20ms.\n    canvas_div.addEventListener(\n        'mousemove',\n        on_mouse_event_closure('motion_notify')\n    );\n\n    canvas_div.addEventListener(\n        'mouseenter',\n        on_mouse_event_closure('figure_enter')\n    );\n    canvas_div.addEventListener(\n        'mouseleave',\n        on_mouse_event_closure('figure_leave')\n    );\n\n    canvas_div.addEventListener('wheel', function (event) {\n        if (event.deltaY < 0) {\n            event.step = 1;\n        } else {\n            event.step = -1;\n        }\n        on_mouse_event_closure('scroll')(event);\n    });\n\n    canvas_div.appendChild(canvas);\n    canvas_div.appendChild(rubberband_canvas);\n\n    this.rubberband_context = rubberband_canvas.getContext('2d');\n    this.rubberband_context.strokeStyle = '#000000';\n\n    this._resize_canvas = function (width, height, forward) {\n        if (forward) {\n            canvas_div.style.width = width + 'px';\n            canvas_div.style.height = height + 'px';\n        }\n    };\n\n    // Disable right mouse context menu.\n    canvas_div.addEventListener('contextmenu', function (_e) {\n        event.preventDefault();\n        return false;\n    });\n\n    function set_focus() {\n        canvas.focus();\n        canvas_div.focus();\n    }\n\n    window.setTimeout(set_focus, 100);\n};\n\nmpl.figure.prototype._init_toolbar = function () {\n    var fig = this;\n\n    var toolbar = document.createElement('div');\n    toolbar.classList = 'mpl-toolbar';\n    this.root.appendChild(toolbar);\n\n    function on_click_closure(name) {\n        return function (_event) {\n            return fig.toolbar_button_onclick(name);\n        };\n    }\n\n    function on_mouseover_closure(tooltip) {\n        return function (event) {\n            if (!event.currentTarget.disabled) {\n                return fig.toolbar_button_onmouseover(tooltip);\n            }\n        };\n    }\n\n    fig.buttons = {};\n    var buttonGroup = document.createElement('div');\n    buttonGroup.classList = 'mpl-button-group';\n    for (var toolbar_ind in mpl.toolbar_items) {\n        var name = mpl.toolbar_items[toolbar_ind][0];\n        var tooltip = mpl.toolbar_items[toolbar_ind][1];\n        var image = mpl.toolbar_items[toolbar_ind][2];\n        var method_name = mpl.toolbar_items[toolbar_ind][3];\n\n        if (!name) {\n            /* Instead of a spacer, we start a new button group. */\n            if (buttonGroup.hasChildNodes()) {\n                toolbar.appendChild(buttonGroup);\n            }\n            buttonGroup = document.createElement('div');\n            buttonGroup.classList = 'mpl-button-group';\n            continue;\n        }\n\n        var button = (fig.buttons[name] = document.createElement('button'));\n        button.classList = 'mpl-widget';\n        button.setAttribute('role', 'button');\n        button.setAttribute('aria-disabled', 'false');\n        button.addEventListener('click', on_click_closure(method_name));\n        button.addEventListener('mouseover', on_mouseover_closure(tooltip));\n\n        var icon_img = document.createElement('img');\n        icon_img.src = '_images/' + image + '.png';\n        icon_img.srcset = '_images/' + image + '_large.png 2x';\n        icon_img.alt = tooltip;\n        button.appendChild(icon_img);\n\n        buttonGroup.appendChild(button);\n    }\n\n    if (buttonGroup.hasChildNodes()) {\n        toolbar.appendChild(buttonGroup);\n    }\n\n    var fmt_picker = document.createElement('select');\n    fmt_picker.classList = 'mpl-widget';\n    toolbar.appendChild(fmt_picker);\n    this.format_dropdown = fmt_picker;\n\n    for (var ind in mpl.extensions) {\n        var fmt = mpl.extensions[ind];\n        var option = document.createElement('option');\n        option.selected = fmt === mpl.default_extension;\n        option.innerHTML = fmt;\n        fmt_picker.appendChild(option);\n    }\n\n    var status_bar = document.createElement('span');\n    status_bar.classList = 'mpl-message';\n    toolbar.appendChild(status_bar);\n    this.message = status_bar;\n};\n\nmpl.figure.prototype.request_resize = function (x_pixels, y_pixels) {\n    // Request matplotlib to resize the figure. Matplotlib will then trigger a resize in the client,\n    // which will in turn request a refresh of the image.\n    this.send_message('resize', { width: x_pixels, height: y_pixels });\n};\n\nmpl.figure.prototype.send_message = function (type, properties) {\n    properties['type'] = type;\n    properties['figure_id'] = this.id;\n    this.ws.send(JSON.stringify(properties));\n};\n\nmpl.figure.prototype.send_draw_message = function () {\n    if (!this.waiting) {\n        this.waiting = true;\n        this.ws.send(JSON.stringify({ type: 'draw', figure_id: this.id }));\n    }\n};\n\nmpl.figure.prototype.handle_save = function (fig, _msg) {\n    var format_dropdown = fig.format_dropdown;\n    var format = format_dropdown.options[format_dropdown.selectedIndex].value;\n    fig.ondownload(fig, format);\n};\n\nmpl.figure.prototype.handle_resize = function (fig, msg) {\n    var size = msg['size'];\n    if (size[0] !== fig.canvas.width || size[1] !== fig.canvas.height) {\n        fig._resize_canvas(size[0], size[1], msg['forward']);\n        fig.send_message('refresh', {});\n    }\n};\n\nmpl.figure.prototype.handle_rubberband = function (fig, msg) {\n    var x0 = msg['x0'] / fig.ratio;\n    var y0 = (fig.canvas.height - msg['y0']) / fig.ratio;\n    var x1 = msg['x1'] / fig.ratio;\n    var y1 = (fig.canvas.height - msg['y1']) / fig.ratio;\n    x0 = Math.floor(x0) + 0.5;\n    y0 = Math.floor(y0) + 0.5;\n    x1 = Math.floor(x1) + 0.5;\n    y1 = Math.floor(y1) + 0.5;\n    var min_x = Math.min(x0, x1);\n    var min_y = Math.min(y0, y1);\n    var width = Math.abs(x1 - x0);\n    var height = Math.abs(y1 - y0);\n\n    fig.rubberband_context.clearRect(\n        0,\n        0,\n        fig.canvas.width / fig.ratio,\n        fig.canvas.height / fig.ratio\n    );\n\n    fig.rubberband_context.strokeRect(min_x, min_y, width, height);\n};\n\nmpl.figure.prototype.handle_figure_label = function (fig, msg) {\n    // Updates the figure title.\n    fig.header.textContent = msg['label'];\n};\n\nmpl.figure.prototype.handle_cursor = function (fig, msg) {\n    fig.canvas_div.style.cursor = msg['cursor'];\n};\n\nmpl.figure.prototype.handle_message = function (fig, msg) {\n    fig.message.textContent = msg['message'];\n};\n\nmpl.figure.prototype.handle_draw = function (fig, _msg) {\n    // Request the server to send over a new figure.\n    fig.send_draw_message();\n};\n\nmpl.figure.prototype.handle_image_mode = function (fig, msg) {\n    fig.image_mode = msg['mode'];\n};\n\nmpl.figure.prototype.handle_history_buttons = function (fig, msg) {\n    for (var key in msg) {\n        if (!(key in fig.buttons)) {\n            continue;\n        }\n        fig.buttons[key].disabled = !msg[key];\n        fig.buttons[key].setAttribute('aria-disabled', !msg[key]);\n    }\n};\n\nmpl.figure.prototype.handle_navigate_mode = function (fig, msg) {\n    if (msg['mode'] === 'PAN') {\n        fig.buttons['Pan'].classList.add('active');\n        fig.buttons['Zoom'].classList.remove('active');\n    } else if (msg['mode'] === 'ZOOM') {\n        fig.buttons['Pan'].classList.remove('active');\n        fig.buttons['Zoom'].classList.add('active');\n    } else {\n        fig.buttons['Pan'].classList.remove('active');\n        fig.buttons['Zoom'].classList.remove('active');\n    }\n};\n\nmpl.figure.prototype.updated_canvas_event = function () {\n    // Called whenever the canvas gets updated.\n    this.send_message('ack', {});\n};\n\n// A function to construct a web socket function for onmessage handling.\n// Called in the figure constructor.\nmpl.figure.prototype._make_on_message_function = function (fig) {\n    return function socket_on_message(evt) {\n        if (evt.data instanceof Blob) {\n            var img = evt.data;\n            if (img.type !== 'image/png') {\n                /* FIXME: We get \"Resource interpreted as Image but\n                 * transferred with MIME type text/plain:\" errors on\n                 * Chrome.  But how to set the MIME type?  It doesn't seem\n                 * to be part of the websocket stream */\n                img.type = 'image/png';\n            }\n\n            /* Free the memory for the previous frames */\n            if (fig.imageObj.src) {\n                (window.URL || window.webkitURL).revokeObjectURL(\n                    fig.imageObj.src\n                );\n            }\n\n            fig.imageObj.src = (window.URL || window.webkitURL).createObjectURL(\n                img\n            );\n            fig.updated_canvas_event();\n            fig.waiting = false;\n            return;\n        } else if (\n            typeof evt.data === 'string' &&\n            evt.data.slice(0, 21) === 'data:image/png;base64'\n        ) {\n            fig.imageObj.src = evt.data;\n            fig.updated_canvas_event();\n            fig.waiting = false;\n            return;\n        }\n\n        var msg = JSON.parse(evt.data);\n        var msg_type = msg['type'];\n\n        // Call the  \"handle_{type}\" callback, which takes\n        // the figure and JSON message as its only arguments.\n        try {\n            var callback = fig['handle_' + msg_type];\n        } catch (e) {\n            console.log(\n                \"No handler for the '\" + msg_type + \"' message type: \",\n                msg\n            );\n            return;\n        }\n\n        if (callback) {\n            try {\n                // console.log(\"Handling '\" + msg_type + \"' message: \", msg);\n                callback(fig, msg);\n            } catch (e) {\n                console.log(\n                    \"Exception inside the 'handler_\" + msg_type + \"' callback:\",\n                    e,\n                    e.stack,\n                    msg\n                );\n            }\n        }\n    };\n};\n\nfunction getModifiers(event) {\n    var mods = [];\n    if (event.ctrlKey) {\n        mods.push('ctrl');\n    }\n    if (event.altKey) {\n        mods.push('alt');\n    }\n    if (event.shiftKey) {\n        mods.push('shift');\n    }\n    if (event.metaKey) {\n        mods.push('meta');\n    }\n    return mods;\n}\n\n/*\n * return a copy of an object with only non-object keys\n * we need this to avoid circular references\n * https://stackoverflow.com/a/24161582/3208463\n */\nfunction simpleKeys(original) {\n    return Object.keys(original).reduce(function (obj, key) {\n        if (typeof original[key] !== 'object') {\n            obj[key] = original[key];\n        }\n        return obj;\n    }, {});\n}\n\nmpl.figure.prototype.mouse_event = function (event, name) {\n    if (name === 'button_press') {\n        this.canvas.focus();\n        this.canvas_div.focus();\n    }\n\n    // from https://stackoverflow.com/q/1114465\n    var boundingRect = this.canvas.getBoundingClientRect();\n    var x = (event.clientX - boundingRect.left) * this.ratio;\n    var y = (event.clientY - boundingRect.top) * this.ratio;\n\n    this.send_message(name, {\n        x: x,\n        y: y,\n        button: event.button,\n        step: event.step,\n        modifiers: getModifiers(event),\n        guiEvent: simpleKeys(event),\n    });\n\n    return false;\n};\n\nmpl.figure.prototype._key_event_extra = function (_event, _name) {\n    // Handle any extra behaviour associated with a key event\n};\n\nmpl.figure.prototype.key_event = function (event, name) {\n    // Prevent repeat events\n    if (name === 'key_press') {\n        if (event.key === this._key) {\n            return;\n        } else {\n            this._key = event.key;\n        }\n    }\n    if (name === 'key_release') {\n        this._key = null;\n    }\n\n    var value = '';\n    if (event.ctrlKey && event.key !== 'Control') {\n        value += 'ctrl+';\n    }\n    else if (event.altKey && event.key !== 'Alt') {\n        value += 'alt+';\n    }\n    else if (event.shiftKey && event.key !== 'Shift') {\n        value += 'shift+';\n    }\n\n    value += 'k' + event.key;\n\n    this._key_event_extra(event, name);\n\n    this.send_message(name, { key: value, guiEvent: simpleKeys(event) });\n    return false;\n};\n\nmpl.figure.prototype.toolbar_button_onclick = function (name) {\n    if (name === 'download') {\n        this.handle_save(this, null);\n    } else {\n        this.send_message('toolbar_button', { name: name });\n    }\n};\n\nmpl.figure.prototype.toolbar_button_onmouseover = function (tooltip) {\n    this.message.textContent = tooltip;\n};\n\n///////////////// REMAINING CONTENT GENERATED BY embed_js.py /////////////////\n// prettier-ignore\nvar _JSXTOOLS_RESIZE_OBSERVER=function(A){var t,i=new WeakMap,n=new WeakMap,a=new WeakMap,r=new WeakMap,o=new Set;function s(e){if(!(this instanceof s))throw new TypeError(\"Constructor requires 'new' operator\");i.set(this,e)}function h(){throw new TypeError(\"Function is not a constructor\")}function c(e,t,i,n){e=0 in arguments?Number(arguments[0]):0,t=1 in arguments?Number(arguments[1]):0,i=2 in arguments?Number(arguments[2]):0,n=3 in arguments?Number(arguments[3]):0,this.right=(this.x=this.left=e)+(this.width=i),this.bottom=(this.y=this.top=t)+(this.height=n),Object.freeze(this)}function d(){t=requestAnimationFrame(d);var s=new WeakMap,p=new Set;o.forEach((function(t){r.get(t).forEach((function(i){var r=t instanceof window.SVGElement,o=a.get(t),d=r?0:parseFloat(o.paddingTop),f=r?0:parseFloat(o.paddingRight),l=r?0:parseFloat(o.paddingBottom),u=r?0:parseFloat(o.paddingLeft),g=r?0:parseFloat(o.borderTopWidth),m=r?0:parseFloat(o.borderRightWidth),w=r?0:parseFloat(o.borderBottomWidth),b=u+f,F=d+l,v=(r?0:parseFloat(o.borderLeftWidth))+m,W=g+w,y=r?0:t.offsetHeight-W-t.clientHeight,E=r?0:t.offsetWidth-v-t.clientWidth,R=b+v,z=F+W,M=r?t.width:parseFloat(o.width)-R-E,O=r?t.height:parseFloat(o.height)-z-y;if(n.has(t)){var k=n.get(t);if(k[0]===M&&k[1]===O)return}n.set(t,[M,O]);var S=Object.create(h.prototype);S.target=t,S.contentRect=new c(u,d,M,O),s.has(i)||(s.set(i,[]),p.add(i)),s.get(i).push(S)}))})),p.forEach((function(e){i.get(e).call(e,s.get(e),e)}))}return s.prototype.observe=function(i){if(i instanceof window.Element){r.has(i)||(r.set(i,new Set),o.add(i),a.set(i,window.getComputedStyle(i)));var n=r.get(i);n.has(this)||n.add(this),cancelAnimationFrame(t),t=requestAnimationFrame(d)}},s.prototype.unobserve=function(i){if(i instanceof window.Element&&r.has(i)){var n=r.get(i);n.has(this)&&(n.delete(this),n.size||(r.delete(i),o.delete(i))),n.size||r.delete(i),o.size||cancelAnimationFrame(t)}},A.DOMRectReadOnly=c,A.ResizeObserver=s,A.ResizeObserverEntry=h,A}; // eslint-disable-line\nmpl.toolbar_items = [[\"Home\", \"Reset original view\", \"fa fa-home\", \"home\"], [\"Back\", \"Back to previous view\", \"fa fa-arrow-left\", \"back\"], [\"Forward\", \"Forward to next view\", \"fa fa-arrow-right\", \"forward\"], [\"\", \"\", \"\", \"\"], [\"Pan\", \"Left button pans, Right button zooms\\nx/y fixes axis, CTRL fixes aspect\", \"fa fa-arrows\", \"pan\"], [\"Zoom\", \"Zoom to rectangle\\nx/y fixes axis\", \"fa fa-square-o\", \"zoom\"], [\"\", \"\", \"\", \"\"], [\"Download\", \"Download plot\", \"fa fa-floppy-o\", \"download\"]];\n\nmpl.extensions = [\"eps\", \"jpeg\", \"pgf\", \"pdf\", \"png\", \"ps\", \"raw\", \"svg\", \"tif\", \"webp\"];\n\nmpl.default_extension = \"png\";/* global mpl */\n\nvar comm_websocket_adapter = function (comm) {\n    // Create a \"websocket\"-like object which calls the given IPython comm\n    // object with the appropriate methods. Currently this is a non binary\n    // socket, so there is still some room for performance tuning.\n    var ws = {};\n\n    ws.binaryType = comm.kernel.ws.binaryType;\n    ws.readyState = comm.kernel.ws.readyState;\n    function updateReadyState(_event) {\n        if (comm.kernel.ws) {\n            ws.readyState = comm.kernel.ws.readyState;\n        } else {\n            ws.readyState = 3; // Closed state.\n        }\n    }\n    comm.kernel.ws.addEventListener('open', updateReadyState);\n    comm.kernel.ws.addEventListener('close', updateReadyState);\n    comm.kernel.ws.addEventListener('error', updateReadyState);\n\n    ws.close = function () {\n        comm.close();\n    };\n    ws.send = function (m) {\n        //console.log('sending', m);\n        comm.send(m);\n    };\n    // Register the callback with on_msg.\n    comm.on_msg(function (msg) {\n        //console.log('receiving', msg['content']['data'], msg);\n        var data = msg['content']['data'];\n        if (data['blob'] !== undefined) {\n            data = {\n                data: new Blob(msg['buffers'], { type: data['blob'] }),\n            };\n        }\n        // Pass the mpl event to the overridden (by mpl) onmessage function.\n        ws.onmessage(data);\n    });\n    return ws;\n};\n\nmpl.mpl_figure_comm = function (comm, msg) {\n    // This is the function which gets called when the mpl process\n    // starts-up an IPython Comm through the \"matplotlib\" channel.\n\n    var id = msg.content.data.id;\n    // Get hold of the div created by the display call when the Comm\n    // socket was opened in Python.\n    var element = document.getElementById(id);\n    var ws_proxy = comm_websocket_adapter(comm);\n\n    function ondownload(figure, _format) {\n        window.open(figure.canvas.toDataURL());\n    }\n\n    var fig = new mpl.figure(id, ws_proxy, ondownload, element);\n\n    // Call onopen now - mpl needs it, as it is assuming we've passed it a real\n    // web socket which is closed, not our websocket->open comm proxy.\n    ws_proxy.onopen();\n\n    fig.parent_element = element;\n    fig.cell_info = mpl.find_output_cell(\"<div id='\" + id + \"'></div>\");\n    if (!fig.cell_info) {\n        console.error('Failed to find cell for figure', id, fig);\n        return;\n    }\n    fig.cell_info[0].output_area.element.on(\n        'cleared',\n        { fig: fig },\n        fig._remove_fig_handler\n    );\n};\n\nmpl.figure.prototype.handle_close = function (fig, msg) {\n    var width = fig.canvas.width / fig.ratio;\n    fig.cell_info[0].output_area.element.off(\n        'cleared',\n        fig._remove_fig_handler\n    );\n    fig.resizeObserverInstance.unobserve(fig.canvas_div);\n\n    // Update the output cell to use the data from the current canvas.\n    fig.push_to_output();\n    var dataURL = fig.canvas.toDataURL();\n    // Re-enable the keyboard manager in IPython - without this line, in FF,\n    // the notebook keyboard shortcuts fail.\n    IPython.keyboard_manager.enable();\n    fig.parent_element.innerHTML =\n        '<img src=\"' + dataURL + '\" width=\"' + width + '\">';\n    fig.close_ws(fig, msg);\n};\n\nmpl.figure.prototype.close_ws = function (fig, msg) {\n    fig.send_message('closing', msg);\n    // fig.ws.close()\n};\n\nmpl.figure.prototype.push_to_output = function (_remove_interactive) {\n    // Turn the data on the canvas into data in the output cell.\n    var width = this.canvas.width / this.ratio;\n    var dataURL = this.canvas.toDataURL();\n    this.cell_info[1]['text/html'] =\n        '<img src=\"' + dataURL + '\" width=\"' + width + '\">';\n};\n\nmpl.figure.prototype.updated_canvas_event = function () {\n    // Tell IPython that the notebook contents must change.\n    IPython.notebook.set_dirty(true);\n    this.send_message('ack', {});\n    var fig = this;\n    // Wait a second, then push the new image to the DOM so\n    // that it is saved nicely (might be nice to debounce this).\n    setTimeout(function () {\n        fig.push_to_output();\n    }, 1000);\n};\n\nmpl.figure.prototype._init_toolbar = function () {\n    var fig = this;\n\n    var toolbar = document.createElement('div');\n    toolbar.classList = 'btn-toolbar';\n    this.root.appendChild(toolbar);\n\n    function on_click_closure(name) {\n        return function (_event) {\n            return fig.toolbar_button_onclick(name);\n        };\n    }\n\n    function on_mouseover_closure(tooltip) {\n        return function (event) {\n            if (!event.currentTarget.disabled) {\n                return fig.toolbar_button_onmouseover(tooltip);\n            }\n        };\n    }\n\n    fig.buttons = {};\n    var buttonGroup = document.createElement('div');\n    buttonGroup.classList = 'btn-group';\n    var button;\n    for (var toolbar_ind in mpl.toolbar_items) {\n        var name = mpl.toolbar_items[toolbar_ind][0];\n        var tooltip = mpl.toolbar_items[toolbar_ind][1];\n        var image = mpl.toolbar_items[toolbar_ind][2];\n        var method_name = mpl.toolbar_items[toolbar_ind][3];\n\n        if (!name) {\n            /* Instead of a spacer, we start a new button group. */\n            if (buttonGroup.hasChildNodes()) {\n                toolbar.appendChild(buttonGroup);\n            }\n            buttonGroup = document.createElement('div');\n            buttonGroup.classList = 'btn-group';\n            continue;\n        }\n\n        button = fig.buttons[name] = document.createElement('button');\n        button.classList = 'btn btn-default';\n        button.href = '#';\n        button.title = name;\n        button.innerHTML = '<i class=\"fa ' + image + ' fa-lg\"></i>';\n        button.addEventListener('click', on_click_closure(method_name));\n        button.addEventListener('mouseover', on_mouseover_closure(tooltip));\n        buttonGroup.appendChild(button);\n    }\n\n    if (buttonGroup.hasChildNodes()) {\n        toolbar.appendChild(buttonGroup);\n    }\n\n    // Add the status bar.\n    var status_bar = document.createElement('span');\n    status_bar.classList = 'mpl-message pull-right';\n    toolbar.appendChild(status_bar);\n    this.message = status_bar;\n\n    // Add the close button to the window.\n    var buttongrp = document.createElement('div');\n    buttongrp.classList = 'btn-group inline pull-right';\n    button = document.createElement('button');\n    button.classList = 'btn btn-mini btn-primary';\n    button.href = '#';\n    button.title = 'Stop Interaction';\n    button.innerHTML = '<i class=\"fa fa-power-off icon-remove icon-large\"></i>';\n    button.addEventListener('click', function (_evt) {\n        fig.handle_close(fig, {});\n    });\n    button.addEventListener(\n        'mouseover',\n        on_mouseover_closure('Stop Interaction')\n    );\n    buttongrp.appendChild(button);\n    var titlebar = this.root.querySelector('.ui-dialog-titlebar');\n    titlebar.insertBefore(buttongrp, titlebar.firstChild);\n};\n\nmpl.figure.prototype._remove_fig_handler = function (event) {\n    var fig = event.data.fig;\n    if (event.target !== this) {\n        // Ignore bubbled events from children.\n        return;\n    }\n    fig.close_ws(fig, {});\n};\n\nmpl.figure.prototype._root_extra_style = function (el) {\n    el.style.boxSizing = 'content-box'; // override notebook setting of border-box.\n};\n\nmpl.figure.prototype._canvas_extra_style = function (el) {\n    // this is important to make the div 'focusable\n    el.setAttribute('tabindex', 0);\n    // reach out to IPython and tell the keyboard manager to turn it's self\n    // off when our div gets focus\n\n    // location in version 3\n    if (IPython.notebook.keyboard_manager) {\n        IPython.notebook.keyboard_manager.register_events(el);\n    } else {\n        // location in version 2\n        IPython.keyboard_manager.register_events(el);\n    }\n};\n\nmpl.figure.prototype._key_event_extra = function (event, _name) {\n    // Check for shift+enter\n    if (event.shiftKey && event.which === 13) {\n        this.canvas_div.blur();\n        // select the cell after this one\n        var index = IPython.notebook.find_cell_index(this.cell_info[0]);\n        IPython.notebook.select(index + 1);\n    }\n};\n\nmpl.figure.prototype.handle_save = function (fig, _msg) {\n    fig.ondownload(fig, null);\n};\n\nmpl.find_output_cell = function (html_output) {\n    // Return the cell and output element which can be found *uniquely* in the notebook.\n    // Note - this is a bit hacky, but it is done because the \"notebook_saving.Notebook\"\n    // IPython event is triggered only after the cells have been serialised, which for\n    // our purposes (turning an active figure into a static one), is too late.\n    var cells = IPython.notebook.get_cells();\n    var ncells = cells.length;\n    for (var i = 0; i < ncells; i++) {\n        var cell = cells[i];\n        if (cell.cell_type === 'code') {\n            for (var j = 0; j < cell.output_area.outputs.length; j++) {\n                var data = cell.output_area.outputs[j];\n                if (data.data) {\n                    // IPython >= 3 moved mimebundle to data attribute of output\n                    data = data.data;\n                }\n                if (data['text/html'] === html_output) {\n                    return [cell, data, j];\n                }\n            }\n        }\n    }\n};\n\n// Register the function which deals with the matplotlib target/channel.\n// The kernel may be null if the page has been refreshed.\nif (IPython.notebook.kernel !== null) {\n    IPython.notebook.kernel.comm_manager.register_target(\n        'matplotlib',\n        mpl.mpl_figure_comm\n    );\n}\n"
     },
     "metadata": {},
     "output_type": "display_data"
    },
    {
     "data": {
      "text/plain": "<IPython.core.display.HTML object>",
      "text/html": "<div id='a639e615-0b66-4b50-85e2-401b0d734a4f'></div>"
     },
     "metadata": {},
     "output_type": "display_data"
    },
    {
     "name": "stderr",
     "output_type": "stream",
     "text": [
      "/home/michal/Studia/Geometria/GEOMETRIC_ALG_PROJECT/wm-code-without-vis-suggestion/DataStructures.py:36: RuntimeWarning: divide by zero encountered in scalar divide\n",
      "  self.m = (self.left.y - self.right.y) / (self.left.x - self.right.x)\n",
      "Exception in Tkinter callback\n",
      "Traceback (most recent call last):\n",
      "  File \"/usr/lib/python3.11/tkinter/__init__.py\", line 1948, in __call__\n",
      "    return self.func(*args)\n",
      "           ^^^^^^^^^^^^^^^^\n",
      "  File \"/home/michal/Studia/Geometria/GEOMETRIC_ALG_PROJECT/wm-code-without-vis-suggestion/plotter.py\", line 129, in startPresenter\n",
      "    T, scenes = trapezoidal_map_vis(self.lineSegments)\n",
      "                ^^^^^^^^^^^^^^^^^^^^^^^^^^^^^^^^^^^^^^\n",
      "  File \"/home/michal/Studia/Geometria/GEOMETRIC_ALG_PROJECT/wm-code-without-vis-suggestion/plotter_functions.py\", line 25, in trapezoidal_map_vis\n",
      "    insertIntoOne(T, intersectedTrapezoids[0], segment)\n",
      "  File \"/home/michal/Studia/Geometria/GEOMETRIC_ALG_PROJECT/wm-code-without-vis-suggestion/plotter_functions.py\", line 140, in insertIntoOne\n",
      "    updateTreeOne(trapezoid, segment, left, top, bottom, right)\n",
      "  File \"/home/michal/Studia/Geometria/GEOMETRIC_ALG_PROJECT/wm-code-without-vis-suggestion/util.py\", line 105, in updateTreeOne\n",
      "    node.type = 'snode'\n",
      "    ^^^^^^^^^\n",
      "AttributeError: 'NoneType' object has no attribute 'type'\n"
     ]
    },
    {
     "name": "stdout",
     "output_type": "stream",
     "text": [
      "(1.4931427467645353, 1.2249951709484255) (3.424763376472861, 1.2249951709484255) (1.4931427467645353, 5.598184276608073) (3.424763376472861, 5.598184276608073)\n"
     ]
    }
   ],
   "source": [
    "root = tk.Tk()\n",
    "pt = Plotter(root)\n",
    "tk.mainloop()"
   ],
   "metadata": {
    "collapsed": false,
    "ExecuteTime": {
     "end_time": "2023-12-31T13:12:44.505705055Z",
     "start_time": "2023-12-31T13:12:38.968537433Z"
    }
   },
   "id": "c39f02925b192c4"
  },
  {
   "cell_type": "code",
   "execution_count": null,
   "outputs": [],
   "source": [],
   "metadata": {
    "collapsed": false,
    "ExecuteTime": {
     "end_time": "2023-12-31T13:12:35.997779939Z",
     "start_time": "2023-12-31T13:12:35.995509506Z"
    }
   },
   "id": "73ba517ebcbd037b"
  }
 ],
 "metadata": {
  "kernelspec": {
   "display_name": "Python 3 (ipykernel)",
   "language": "python",
   "name": "python3"
  },
  "language_info": {
   "codemirror_mode": {
    "name": "ipython",
    "version": 3
   },
   "file_extension": ".py",
   "mimetype": "text/x-python",
   "name": "python",
   "nbconvert_exporter": "python",
   "pygments_lexer": "ipython3",
   "version": "3.9.18"
  }
 },
 "nbformat": 4,
 "nbformat_minor": 5
}
