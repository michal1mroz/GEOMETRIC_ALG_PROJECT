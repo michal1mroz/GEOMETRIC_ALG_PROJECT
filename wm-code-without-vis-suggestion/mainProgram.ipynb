{
 "cells": [
  {
   "cell_type": "markdown",
   "id": "9cf5624e",
   "metadata": {},
   "source": [
    "# Lokalizacja punktu w przestrzeni dwuwymiarowej – metoda trapezowa "
   ]
  },
  {
   "cell_type": "markdown",
   "id": "0d09ef58",
   "metadata": {},
   "source": [
    "## Wprowadzenie do problemu lokalizacji punktu na płaszczyźnie\n",
    "### Dane:\n",
    "Poligonowy podział płaszczyzny (tzw. podział planarny) $S$. Należy go przetworzyć (zapisując wyniki w odpowiedniej strukturze\n",
    "danych) tak, aby umożliwić efektywne osiągnięcie celu.\n",
    "### Cel:\n",
    "Odszukanie wielokąta (ściany) zawierającego zadany punkt.\n",
    "\n",
    "Możliwa jest sytuacja, że zadany punkt nie leży wewnątrz żadnej ze ścian. Aby uwzględnić taki przypadek, umieszczamy nasz podział w odpowiednio dużym prostokącie $R$. Wtedy w razie takiej sytuacji wskażemy obszar wyznaczony przez ten prostokąt."
   ]
  },
  {
   "cell_type": "markdown",
   "id": "5ee49e9e",
   "metadata": {},
   "source": [
    "## Metoda trapezowa\n",
    "W przypadku podejścia do rozwiązania przedstawionego powyżej problemu metodą trapezową, podział płaszczyzny będzie reprezentowany przez zbiór odcinków $S$={$s$<sub>1</sub>,$s$<sub>2</sub>,...,$s$<sub>n</sub>}. Poczynione założenia:\n",
    "- odcinki nie przecinają się, poza ewentualnie wierzchołkami\n",
    "- żaden odcinek nie jest pionowy\n",
    "- wierzchołki żadnych dwóch odcinków nie mają takiej samej współrzędnej x (poza końcami połączonych odcinków)\n",
    "\n",
    "Drugie i trzecie założenie wskazują na to, że zbiór odcinków $S$ jest w położeniu ogólnym.\n",
    "\n",
    "### Mapa trapezowa\n",
    "Mapa trapezowa $T$($S$) jest podziałem $S$ na wielokąty wypukłe (trapezy lub trójkąty; będziemy je nazywać *trapezami*, traktując trójkąt jako zdegenerowany trapez, w którym jeden z boków zredukował się do zera) otrzymanym przez poprowadzenie dwóch rozszerzeń (odcinków) pionowych z każdego końca odcinka w $S$. Rozszerzenia kończą się, gdy napotkają inny odcinek $S$ lub\n",
    "brzeg prostokąta (ramki) $R$. \n",
    "\n",
    "#### Struktury używane w ramach algorytmu przedstawione są w pliku DataStructures."
   ]
  },
  {
   "cell_type": "code",
   "execution_count": 1,
   "id": "ba01bbae24998e8b",
   "metadata": {
    "ExecuteTime": {
     "end_time": "2024-01-01T20:17:40.597673831Z",
     "start_time": "2024-01-01T20:17:39.925524589Z"
    }
   },
   "outputs": [],
   "source": [
    "# importy\n",
    "from util import *\n",
    "from DataStructures import *\n",
    "from plotter import Presenter, Plotter\n",
    "import tkinter as tk\n",
    "\n",
    "#from vis_bit.main import Visualizer"
   ]
  },
  {
   "cell_type": "markdown",
   "id": "83e36a6e",
   "metadata": {},
   "source": [
    "## Algorytmy potrzebne do rozwiązania problemu\n",
    "### Randomizowany algorytm przyrostowy\n",
    "Ideą tego algorytmu jest to, że przetwarzamy odcinki ze zbioru $S$ w losowej kolejności (bierzemy dowolną permutację). Dla pewnych przypadków otrzymana struktura przeszukiwań $D$ ma rozmiar kwadratowy i liniowy czas przeszukiwania, ale dla innych permutacji złożoności tych operacji będą dużo lepsze. Analiza złożoności tego algorytmu jest probabilistyczna. Jak się okazuje, oczekiwana złożoność czasowa konstrukcji mapy trapezowej to ```O(nlogn)```, oczekiwany rozmiar struktury przeszukiwań to ```O(n)```, natomiast oczekiwany czas zapytania dla dowolnego punktu to ```O(logn)```, gdzie *n* oznacza liczbę odcinków ze zbioru $S$, dla którego tę strukturę przygotowujemy.\n",
    "\n",
    "#### Kod do pomocniczych funkcji znajduje się w pliku util. \n",
    "## Główna funkcja"
   ]
  },
  {
   "cell_type": "code",
   "execution_count": 2,
   "id": "65c2b916",
   "metadata": {
    "ExecuteTime": {
     "end_time": "2024-01-01T20:17:40.606516642Z",
     "start_time": "2024-01-01T20:17:40.603891754Z"
    }
   },
   "outputs": [],
   "source": [
    "def createTrapezoidalMap(segments):\n",
    "    S = []    \n",
    "    for i in permute(segments):    \n",
    "        p1 = Point(i[0][0], i[0][1])\n",
    "        p2 = Point(i[1][0], i[1][1])\n",
    "        S.append(Segment(p1, p2))\n",
    "    \n",
    "    R = createOuter(segments)\n",
    "    rootNode = DNode('tnode', R)\n",
    "    T = DTree(rootNode)\n",
    "    \n",
    "    for segment in S:  \n",
    "        intersectedTrapezoids = followSegment(T, segment)\n",
    "        if len(intersectedTrapezoids) == 1:\n",
    "            insertIntoOne(T, intersectedTrapezoids[0], segment)\n",
    "        else:\n",
    "            insertIntoMany(T, intersectedTrapezoids, segment)   \n",
    "    return T"
   ]
  },
  {
   "cell_type": "markdown",
   "id": "3bb8b01444c878e7",
   "metadata": {},
   "source": [
    "## Dodawanie do jednego trapezu"
   ]
  },
  {
   "cell_type": "code",
   "execution_count": 3,
   "id": "f4315071ccad289e",
   "metadata": {
    "ExecuteTime": {
     "end_time": "2024-01-01T20:17:40.615824092Z",
     "start_time": "2024-01-01T20:17:40.610782884Z"
    }
   },
   "outputs": [],
   "source": [
    "def insertIntoOne(T: DTree  , trapezoid : Trapezoid, segment : Segment):\n",
    "    p, q = segment.left, segment.right\n",
    "    bottomLeft = trapezoid.bottomLeft\n",
    "    bottomRight = trapezoid.bottomRight\n",
    "    topLeft = trapezoid.topLeft\n",
    "    topRight = trapezoid.topRight\n",
    "    \n",
    "    left, right = None, None\n",
    "    top = Trapezoid(trapezoid.topSegment, segment, p, q)\n",
    "    bottom = Trapezoid(segment, trapezoid.bottomSegment, p, q)\n",
    "    \n",
    "    if trapezoid.leftPoint < p:\n",
    "        left = Trapezoid(trapezoid.topSegment, trapezoid.bottomSegment, trapezoid.leftPoint, p)\n",
    "        left.bottomLeft = bottomLeft\n",
    "        left.topLeft = topLeft\n",
    "        left.topRight = top\n",
    "        left.bottomRight = bottom\n",
    "        top.topLeft = left\n",
    "        bottom.bottomLeft = left\n",
    "        updateLeft(trapezoid, left)\n",
    "    else:\n",
    "        Segment.updateX(p.x)\n",
    "        bottom.bottomLeft = bottomLeft\n",
    "        top.topLeft = topLeft\n",
    "        if bottomLeft:\n",
    "            bottomLeft.bottomRight = bottom\n",
    "            if bottomLeft.topSegment > segment:\n",
    "                bottomLeft.topRight = top\n",
    "                top.bottomLeft = bottomLeft\n",
    "        if topLeft:\n",
    "            topLeft.topRight = top\n",
    "            if segment > topLeft.bottomSegment:\n",
    "                topLeft.bottomRight = bottom\n",
    "                bottom.topLeft = topLeft\n",
    "                \n",
    "    if trapezoid.rightPoint > q:\n",
    "        right = Trapezoid(trapezoid.topSegment, trapezoid.bottomSegment, segment.right, trapezoid.rightPoint)\n",
    "        right.bottomRight = bottomRight\n",
    "        right.topRight = topRight\n",
    "        right.bottomLeft = bottom\n",
    "        right.topLeft = top\n",
    "        top.topRight = right\n",
    "        bottom.bottomRight = right\n",
    "        updateRight(trapezoid, right)\n",
    "    else:\n",
    "        Segment.updateX(q.x)\n",
    "        bottom.bottomRight = bottomRight\n",
    "        top.topRight = topRight\n",
    "        if bottomRight:\n",
    "            bottomRight.bottomLeft = bottom\n",
    "            if bottomRight.topSegment > segment:\n",
    "                bottomRight.topLeft = top\n",
    "                top.bottomRight = bottomRight\n",
    "        if topRight:\n",
    "            topRight.topLeft = top\n",
    "            if segment > topRight.bottomSegment:\n",
    "                topRight.bottomLeft = bottom\n",
    "                bottom.topRight = topRight\n",
    "                \n",
    "    updateTreeOne(trapezoid, segment, left, top, bottom, right)\n",
    "                "
   ]
  },
  {
   "cell_type": "markdown",
   "id": "d85bc957",
   "metadata": {},
   "source": [
    "## Dodawanie do wielu trapezów"
   ]
  },
  {
   "cell_type": "code",
   "execution_count": 4,
   "id": "4d50a481",
   "metadata": {
    "ExecuteTime": {
     "end_time": "2024-01-01T20:17:40.643273296Z",
     "start_time": "2024-01-01T20:17:40.618192515Z"
    }
   },
   "outputs": [],
   "source": [
    "def insertIntoMany (T, trapezoids: list[Trapezoid], segment: Segment):\n",
    "    p, q = segment.left, segment.right\n",
    "    left, right = None, None\n",
    "    newTrapezoidsAbove = []\n",
    "    newTrapezoidsBelow = []\n",
    "    n = len(trapezoids)\n",
    "    first = trapezoids[0]\n",
    "    bottomLeft = first.bottomLeft\n",
    "    topLeft = first.topLeft\n",
    "    topRight = first.topRight\n",
    "    bottomRight = first.bottomRight\n",
    "    Segment.updateX(first.rightPoint.x)\n",
    "    \n",
    "    if segment.isAbove(first.rightPoint):\n",
    "        top = Trapezoid(first.topSegment, segment, p, first.rightPoint)\n",
    "        bottom = Trapezoid(segment, first.bottomSegment, p, Point(Segment.x, segment.getY(Segment.x)))\n",
    "        merge = \"lower\"\n",
    "    else:\n",
    "        top = Trapezoid(first.topSegment, segment, p, Point(Segment.x, segment.getY(Segment.x)))\n",
    "        bottom = Trapezoid(segment, first.bottomSegment, p, first.rightPoint)\n",
    "        merge = \"upper\"\n",
    "        \n",
    "    if first.leftPoint < p:\n",
    "        left = Trapezoid(first.topSegment, first.bottomSegment, first.leftPoint, p)\n",
    "        left.bottomLeft = bottomLeft\n",
    "        left.topLeft = topLeft\n",
    "        left.topRight = top\n",
    "        left.bottomRight = bottom\n",
    "        top.topLeft = left\n",
    "        bottom.bottomLeft = left\n",
    "        updateLeft(first, left)    \n",
    "    else:           \n",
    "        bottom.bottomLeft = bottomLeft\n",
    "        top.topLeft = topLeft\n",
    "        if bottomLeft:\n",
    "            bottomLeft.bottomRight = bottom\n",
    "            if bottomLeft.topSegment > segment:\n",
    "                bottomLeft.topRight = top\n",
    "                top.bottomLeft = bottomLeft\n",
    "        if topLeft:\n",
    "            topLeft.topRight = top\n",
    "            if segment > topLeft.bottomSegment:\n",
    "                topLeft.bottomRight = bottom\n",
    "                bottom.topLeft = topLeft\n",
    "                             \n",
    "    if trapezoids[1] == first.bottomRight:\n",
    "        top.topRight = topRight\n",
    "        if topRight:\n",
    "            topRight.topLeft = top\n",
    "    else:\n",
    "        bottom.bottomRight = bottomRight\n",
    "        if bottomRight:\n",
    "            bottomRight.bottomLeft = bottom\n",
    "    \n",
    "    newTrapezoidsAbove.append(top)\n",
    "    newTrapezoidsBelow.append(bottom)\n",
    "    \n",
    "    for i in range(1, n-1):\n",
    "        nextPoint = trapezoids[i].rightPoint\n",
    "        bottomLeft = trapezoids[i].bottomLeft\n",
    "        topLeft = trapezoids[i].topLeft\n",
    "        topRight = trapezoids[i].topRight\n",
    "        bottomRight = trapezoids[i].bottomRight\n",
    "        Segment.updateX(nextPoint.x)\n",
    "        \n",
    "        if segment.isAbove(nextPoint):\n",
    "            lowerRightPoint = Point(Segment.x, segment.getY(Segment.x))\n",
    "            if merge == \"upper\":\n",
    "                top.rightPoint = nextPoint\n",
    "                t = Trapezoid(segment, trapezoids[i].bottomSegment, bottom.rightPoint, lowerRightPoint)\n",
    "                bottom.topRight = t\n",
    "                t.topLeft = bottom\n",
    "                t.bottomLeft = bottomLeft\n",
    "                if bottomLeft:\n",
    "                    bottomLeft.bottomRight = t\n",
    "                top.topRight = topRight\n",
    "                if topRight:\n",
    "                    topRight.topLeft = top\n",
    "                bottom = t\n",
    "                newTrapezoidsBelow.append(bottom)\n",
    "            else:\n",
    "                bottom.rightPoint = lowerRightPoint\n",
    "                t = Trapezoid(trapezoids[i].topSegment, segment, top.rightPoint, nextPoint)\n",
    "                top.bottomRight = t\n",
    "                t.bottomLeft = top\n",
    "                t.topLeft = topLeft\n",
    "                t.topRight = topRight\n",
    "                if topLeft:\n",
    "                    topLeft.topRight = t\n",
    "                if topRight:\n",
    "                    topRight.topLeft = t\n",
    "                top = t\n",
    "                newTrapezoidsAbove.append(top)\n",
    "            merge = \"lower\"   \n",
    "        else:\n",
    "            upperRightPoint = Point(Segment.x, segment.getY(Segment.x))\n",
    "            if merge == \"upper\":\n",
    "                top.rightPoint = upperRightPoint\n",
    "                t = Trapezoid(segment, trapezoids[i].bottomSegment, bottom.rightPoint, nextPoint)\n",
    "                bottom.topRight = t\n",
    "                t.topLeft = bottom\n",
    "                t.bottomLeft = bottomLeft\n",
    "                t.bottomRight = bottomRight\n",
    "                if bottomLeft:\n",
    "                    bottomLeft.bottomRight = t\n",
    "                if bottomRight:\n",
    "                    bottomRight.bottomLeft = t\n",
    "                bottom = t\n",
    "                newTrapezoidsBelow.append(bottom)\n",
    "            else:\n",
    "                bottom.rightPoint = nextPoint\n",
    "                t = Trapezoid(trapezoids[i].topSegment, segment, top.rightPoint, upperRightPoint)\n",
    "                top.bottomRight = t\n",
    "                t.bottomLeft = top\n",
    "                t.topLeft = topLeft\n",
    "                if topLeft:\n",
    "                    topLeft.topRight = t\n",
    "                bottom.bottomRight = bottomRight\n",
    "                if bottomRight:\n",
    "                    bottomRight.bottomLeft = bottom\n",
    "                top = t\n",
    "                newTrapezoidsAbove.append(top)\n",
    "            merge=\"upper\"\n",
    "            \n",
    "    last = trapezoids[n-1]\n",
    "    bottomLeft = last.bottomLeft\n",
    "    topLeft = last.topLeft\n",
    "    topRight = last.topRight\n",
    "    bottomRight = last.bottomRight\n",
    "    Segment.updateX(last.rightPoint)\n",
    "        \n",
    "    if merge == \"upper\":\n",
    "        top.rightPoint = q\n",
    "        t = Trapezoid(segment, last.bottomSegment, bottom.rightPoint, q)\n",
    "        bottom.topRight = t\n",
    "        t.topLeft = bottom\n",
    "        bottom = t\n",
    "        newTrapezoidsBelow.append(bottom)\n",
    "    else:\n",
    "        bottom.rightPoint = q\n",
    "        t = Trapezoid(last.topSegment, segment, top.rightPoint, q)\n",
    "        top.bottomRight = t\n",
    "        t.bottomLeft = top\n",
    "        top = t\n",
    "        newTrapezoidsAbove.append(top)\n",
    "        \n",
    "    if last.rightPoint > q:\n",
    "        right = Trapezoid(last.topSegment, last.bottomSegment, q, last.rightPoint)\n",
    "        right.bottomLeft = bottom\n",
    "        right.topLeft = top\n",
    "        right.topRight = topRight\n",
    "        right.bottomRight = bottomRight\n",
    "        top.topRight = right\n",
    "        bottom.bottomRight = right\n",
    "        updateRight(last, right)\n",
    "    else:\n",
    "        top.topRight = topRight\n",
    "        bottom.bottomRight = bottomRight\n",
    "        if bottomRight:\n",
    "            bottomRight.bottomLeft = bottom\n",
    "            if bottomRight.topSegment > segment:\n",
    "                bottomRight.topLeft = top\n",
    "                top.bottomRight = bottomRight\n",
    "        if topRight:\n",
    "            topRight.topLeft = top\n",
    "            if segment > topRight.bottomSegment:\n",
    "                topRight.bottomLeft = bottom\n",
    "                bottom.topRight = topRight\n",
    "                \n",
    "    if last == trapezoids[n-2].topRight:\n",
    "        bottom.bottomLeft = bottomLeft\n",
    "        if bottomLeft:\n",
    "            bottomLeft.bottomRight = bottom\n",
    "    else:\n",
    "        top.topLeft = topLeft\n",
    "        if topLeft:\n",
    "            topLeft.topRight = top\n",
    "            \n",
    "    updateTreeMany(trapezoids, segment, newTrapezoidsAbove, newTrapezoidsBelow, left, right)"
   ]
  },
  {
   "cell_type": "markdown",
   "id": "6612dac4bb1562dc",
   "metadata": {},
   "source": [
    "## Tworzenie mapy trapezowej wraz z wizualizacją\n",
    "to do kiedy będzie zrobiona wizualizacja. Zostawiłem tę część poniżej, ale pewnie będzie jeszcze przerobiona"
   ]
  },
  {
   "cell_type": "code",
   "execution_count": 5,
   "id": "181b29391e82b21",
   "metadata": {
    "ExecuteTime": {
     "end_time": "2024-01-01T20:17:40.658754587Z",
     "start_time": "2024-01-01T20:17:40.643483041Z"
    }
   },
   "outputs": [],
   "source": [
    "#%matplotlib notebook\n",
    "#presenter = Presenter(scenes)\n",
    "#presenter.display()\n"
   ]
  },
  {
   "cell_type": "code",
   "execution_count": 6,
   "id": "c39f02925b192c4",
   "metadata": {
    "ExecuteTime": {
     "end_time": "2024-01-01T20:17:46.499655356Z",
     "start_time": "2024-01-01T20:17:40.661034345Z"
    }
   },
   "outputs": [
    {
     "name": "stderr",
     "output_type": "stream",
     "text": [
      "/home/michal/Studia/Geometria/GEOMETRIC_ALG_PROJECT/wm-code-without-vis-suggestion/DataStructures.py:36: RuntimeWarning: divide by zero encountered in scalar divide\n",
      "  self.m = (self.left.y - self.right.y) / (self.left.x - self.right.x)\n",
      "Exception in Tkinter callback\n",
      "Traceback (most recent call last):\n",
      "  File \"/usr/lib/python3.11/tkinter/__init__.py\", line 1948, in __call__\n",
      "    return self.func(*args)\n",
      "           ^^^^^^^^^^^^^^^^\n",
      "  File \"/home/michal/Studia/Geometria/GEOMETRIC_ALG_PROJECT/wm-code-without-vis-suggestion/plotter.py\", line 129, in startPresenter\n",
      "    T, scenes = trapezoidal_map_vis(self.lineSegments)\n",
      "                ^^^^^^^^^^^^^^^^^^^^^^^^^^^^^^^^^^^^^^\n",
      "  File \"/home/michal/Studia/Geometria/GEOMETRIC_ALG_PROJECT/wm-code-without-vis-suggestion/plotter_functions.py\", line 22, in trapezoidal_map_vis\n",
      "    intersectedTrapezoids = followSegment(T, segment)\n",
      "                            ^^^^^^^^^^^^^^^^^^^^^^^^^\n",
      "  File \"/home/michal/Studia/Geometria/GEOMETRIC_ALG_PROJECT/wm-code-without-vis-suggestion/util.py\", line 33, in followSegment\n",
      "    while q > trapezoids[j].rightPoint:\n",
      "              ^^^^^^^^^^^^^^^^^^^^^^^^\n",
      "AttributeError: 'NoneType' object has no attribute 'rightPoint'\n"
     ]
    },
    {
     "data": {
      "text/plain": "<Figure size 835x942 with 1 Axes>",
      "image/png": "[encoded data removed]"
     },
     "metadata": {},
     "output_type": "display_data"
    }
   ],
   "source": [
    "root = tk.Tk()\n",
    "pt = Plotter(root)\n",
    "tk.mainloop()"
   ]
  },
  {
   "cell_type": "code",
   "execution_count": 7,
   "id": "ccb50ecd97624023",
   "metadata": {
    "ExecuteTime": {
     "end_time": "2024-01-01T20:17:46.731884128Z",
     "start_time": "2024-01-01T20:17:46.504248272Z"
    }
   },
   "outputs": [
    {
     "ename": "AttributeError",
     "evalue": "'NoneType' object has no attribute 'type'",
     "output_type": "error",
     "traceback": [
      "\u001B[0;31m---------------------------------------------------------------------------\u001B[0m",
      "\u001B[0;31mAttributeError\u001B[0m                            Traceback (most recent call last)",
      "Cell \u001B[0;32mIn[7], line 2\u001B[0m\n\u001B[1;32m      1\u001B[0m l \u001B[38;5;241m=\u001B[39m [((\u001B[38;5;241m3.6565578520378597\u001B[39m, \u001B[38;5;241m3.233880625845084\u001B[39m), (\u001B[38;5;241m7.581610971605176\u001B[39m, \u001B[38;5;241m3.542939926598416\u001B[39m))]\n\u001B[0;32m----> 2\u001B[0m t \u001B[38;5;241m=\u001B[39m \u001B[43mcreateTrapezoidalMap\u001B[49m\u001B[43m(\u001B[49m\u001B[43ml\u001B[49m\u001B[43m)\u001B[49m\n",
      "Cell \u001B[0;32mIn[2], line 15\u001B[0m, in \u001B[0;36mcreateTrapezoidalMap\u001B[0;34m(segments)\u001B[0m\n\u001B[1;32m     13\u001B[0m intersectedTrapezoids \u001B[38;5;241m=\u001B[39m followSegment(T, segment)\n\u001B[1;32m     14\u001B[0m \u001B[38;5;28;01mif\u001B[39;00m \u001B[38;5;28mlen\u001B[39m(intersectedTrapezoids) \u001B[38;5;241m==\u001B[39m \u001B[38;5;241m1\u001B[39m:\n\u001B[0;32m---> 15\u001B[0m     \u001B[43minsertIntoOne\u001B[49m\u001B[43m(\u001B[49m\u001B[43mT\u001B[49m\u001B[43m,\u001B[49m\u001B[43m \u001B[49m\u001B[43mintersectedTrapezoids\u001B[49m\u001B[43m[\u001B[49m\u001B[38;5;241;43m0\u001B[39;49m\u001B[43m]\u001B[49m\u001B[43m,\u001B[49m\u001B[43m \u001B[49m\u001B[43msegment\u001B[49m\u001B[43m)\u001B[49m\n\u001B[1;32m     16\u001B[0m \u001B[38;5;28;01melse\u001B[39;00m:\n\u001B[1;32m     17\u001B[0m     insertIntoMany(T, intersectedTrapezoids, segment)   \n",
      "Cell \u001B[0;32mIn[3], line 60\u001B[0m, in \u001B[0;36minsertIntoOne\u001B[0;34m(T, trapezoid, segment)\u001B[0m\n\u001B[1;32m     57\u001B[0m             topRight\u001B[38;5;241m.\u001B[39mbottomLeft \u001B[38;5;241m=\u001B[39m bottom\n\u001B[1;32m     58\u001B[0m             bottom\u001B[38;5;241m.\u001B[39mtopRight \u001B[38;5;241m=\u001B[39m topRight\n\u001B[0;32m---> 60\u001B[0m \u001B[43mupdateTreeOne\u001B[49m\u001B[43m(\u001B[49m\u001B[43mtrapezoid\u001B[49m\u001B[43m,\u001B[49m\u001B[43m \u001B[49m\u001B[43msegment\u001B[49m\u001B[43m,\u001B[49m\u001B[43m \u001B[49m\u001B[43mleft\u001B[49m\u001B[43m,\u001B[49m\u001B[43m \u001B[49m\u001B[43mtop\u001B[49m\u001B[43m,\u001B[49m\u001B[43m \u001B[49m\u001B[43mbottom\u001B[49m\u001B[43m,\u001B[49m\u001B[43m \u001B[49m\u001B[43mright\u001B[49m\u001B[43m)\u001B[49m\n",
      "File \u001B[0;32m~/Studia/Geometria/GEOMETRIC_ALG_PROJECT/wm-code-without-vis-suggestion/util.py:93\u001B[0m, in \u001B[0;36mupdateTreeOne\u001B[0;34m(trapezoid, segment, left, top, bottom, right)\u001B[0m\n\u001B[1;32m     91\u001B[0m     top\u001B[38;5;241m.\u001B[39mnode \u001B[38;5;241m=\u001B[39m rlnode\n\u001B[1;32m     92\u001B[0m \u001B[38;5;28;01melse\u001B[39;00m:\n\u001B[0;32m---> 93\u001B[0m     \u001B[43mnode\u001B[49m\u001B[38;5;241;43m.\u001B[39;49m\u001B[43mtype\u001B[49m \u001B[38;5;241m=\u001B[39m \u001B[38;5;124m'\u001B[39m\u001B[38;5;124msnode\u001B[39m\u001B[38;5;124m'\u001B[39m\n\u001B[1;32m     94\u001B[0m     node\u001B[38;5;241m.\u001B[39mlabel \u001B[38;5;241m=\u001B[39m segment\n\u001B[1;32m     95\u001B[0m     lnode \u001B[38;5;241m=\u001B[39m DNode(\u001B[38;5;124m'\u001B[39m\u001B[38;5;124mtnode\u001B[39m\u001B[38;5;124m'\u001B[39m, top)\n",
      "\u001B[0;31mAttributeError\u001B[0m: 'NoneType' object has no attribute 'type'"
     ]
    }
   ],
   "source": [
    "\n",
    "l = [((3.6565578520378597, 3.233880625845084), (7.581610971605176, 3.542939926598416))]\n",
    "t = createTrapezoidalMap(l)"
   ]
  },
  {
   "cell_type": "code",
   "execution_count": null,
   "id": "73ba517ebcbd037b",
   "metadata": {
    "ExecuteTime": {
     "end_time": "2024-01-01T20:17:46.734969351Z",
     "start_time": "2024-01-01T20:17:46.732850341Z"
    }
   },
   "outputs": [],
   "source": []
  },
  {
   "cell_type": "code",
   "execution_count": null,
   "id": "2e505b5565cc5dc8",
   "metadata": {
    "ExecuteTime": {
     "end_time": "2024-01-01T20:17:46.737548076Z",
     "start_time": "2024-01-01T20:17:46.735979285Z"
    }
   },
   "outputs": [],
   "source": []
  }
 ],
 "metadata": {
  "kernelspec": {
   "display_name": "Python 3 (ipykernel)",
   "language": "python",
   "name": "python3"
  },
  "language_info": {
   "codemirror_mode": {
    "name": "ipython",
    "version": 3
   },
   "file_extension": ".py",
   "mimetype": "text/x-python",
   "name": "python",
   "nbconvert_exporter": "python",
   "pygments_lexer": "ipython3",
   "version": "3.9.18"
  }
 },
 "nbformat": 4,
 "nbformat_minor": 5
}
