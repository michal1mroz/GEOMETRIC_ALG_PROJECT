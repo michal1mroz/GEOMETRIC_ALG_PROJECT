{
 "cells": [
  {
   "cell_type": "markdown",
   "id": "9cf5624e",
   "metadata": {},
   "source": [
    "# Lokalizacja punktu w przestrzeni dwuwymiarowej – metoda trapezowa "
   ]
  },
  {
   "cell_type": "markdown",
   "id": "0d09ef58",
   "metadata": {},
   "source": [
    "## Wprowadzenie do problemu lokalizacji punktu na płaszczyźnie\n",
    "### Dane:\n",
    "Poligonowy podział płaszczyzny (tzw. podział planarny) $S$. Należy go przetworzyć (zapisując wyniki w odpowiedniej strukturze\n",
    "danych) tak, aby umożliwić efektywne osiągnięcie celu.\n",
    "### Cel:\n",
    "Odszukanie wielokąta (ściany) zawierającego zadany punkt.\n",
    "\n",
    "Możliwa jest sytuacja, że zadany punkt nie leży wewnątrz żadnej ze ścian. Aby uwzględnić taki przypadek, umieszczamy nasz podział w odpowiednio dużym prostokącie $R$. Wtedy w razie takiej sytuacji wskażemy obszar wyznaczony przez ten prostokąt."
   ]
  },
  {
   "cell_type": "markdown",
   "id": "5ee49e9e",
   "metadata": {},
   "source": [
    "## Metoda trapezowa\n",
    "W przypadku podejścia do rozwiązania przedstawionego powyżej problemu metodą trapezową, podział płaszczyzny będzie reprezentowany przez zbiór odcinków $S$={$s$<sub>1</sub>,$s$<sub>2</sub>,...,$s$<sub>n</sub>}. Poczynione założenia:\n",
    "- odcinki nie przecinają się, poza ewentualnie wierzchołkami\n",
    "- żaden odcinek nie jest pionowy\n",
    "- wierzchołki żadnych dwóch odcinków nie mają takiej samej współrzędnej x (poza końcami połączonych odcinków)\n",
    "\n",
    "Drugie i trzecie założenie wskazują na to, że zbiór odcinków $S$ jest w położeniu ogólnym.\n",
    "\n",
    "### Mapa trapezowa\n",
    "Mapa trapezowa $T$($S$) jest podziałem $S$ na wielokąty wypukłe (trapezy lub trójkąty; będziemy je nazywać *trapezami*, traktując trójkąt jako zdegenerowany trapez, w którym jeden z boków zredukował się do zera) otrzymanym przez poprowadzenie dwóch rozszerzeń (odcinków) pionowych z każdego końca odcinka w $S$. Rozszerzenia kończą się, gdy napotkają inny odcinek $S$ lub\n",
    "brzeg prostokąta (ramki) $R$. \n",
    "\n",
    "#### Struktury używane w ramach algorytmu przedstawione są w pliku DataStructures."
   ]
  },
  {
   "cell_type": "code",
   "execution_count": 1,
   "id": "ba01bbae24998e8b",
   "metadata": {
    "ExecuteTime": {
     "end_time": "2023-12-29T19:34:05.971616529Z",
     "start_time": "2023-12-29T19:34:05.386430448Z"
    }
   },
   "outputs": [],
   "source": [
    "# importy\n",
    "from util import *\n",
    "from DataStructures import *\n",
    "import tkinter as tk\n",
    "from plotter import Plotter\n",
    "from vis_bit.main import Visualizer"
   ]
  },
  {
   "cell_type": "markdown",
   "id": "83e36a6e",
   "metadata": {},
   "source": [
    "## Algorytmy potrzebne do rozwiązania problemu\n",
    "### Randomizowany algorytm przyrostowy\n",
    "Ideą tego algorytmu jest to, że przetwarzamy odcinki ze zbioru $S$ w losowej kolejności (bierzemy dowolną permutację). Dla pewnych przypadków otrzymana struktura przeszukiwań $D$ ma rozmiar kwadratowy i liniowy czas przeszukiwania, ale dla innych permutacji złożoności tych operacji będą dużo lepsze. Analiza złożoności tego algorytmu jest probabilistyczna. Jak się okazuje, oczekiwana złożoność czasowa konstrukcji mapy trapezowej to ```O(nlogn)```, oczekiwany rozmiar struktury przeszukiwań to ```O(n)```, natomiast oczekiwany czas zapytania dla dowolnego punktu to ```O(logn)```, gdzie *n* oznacza liczbę odcinków ze zbioru $S$, dla którego tę strukturę przygotowujemy.\n",
    "\n",
    "#### Kod do pomocniczych funkcji znajduje się w pliku util. \n",
    "## Główna funkcja"
   ]
  },
  {
   "cell_type": "code",
   "execution_count": null,
   "id": "65c2b916",
   "metadata": {},
   "outputs": [],
   "source": [
    "def createTrapezoidalMap(segments):\n",
    "    S = []    \n",
    "    for i in permute(segments):    \n",
    "        p1 = Point(i[0][0], i[0][1])\n",
    "        p2 = Point(i[1][0], i[1][1])\n",
    "        S.append(Segment(p1, p2))\n",
    "    \n",
    "    R = createOuter(segments)\n",
    "    rootNode = DNode('tnode', R)\n",
    "    T = DTree(rootNode)\n",
    "    \n",
    "    for segment in S:  \n",
    "        intersectedTrapezoids = followSegment(T, segment)\n",
    "        if len(intersectedTrapezoids) == 1:\n",
    "            insertIntoOne(T, intersectedTrapezoids[0], segment)\n",
    "        else:\n",
    "            insertIntoMany(T, intersectedTrapezoids, segment)   \n",
    "    return T"
   ]
  },
  {
   "cell_type": "markdown",
   "id": "3bb8b01444c878e7",
   "metadata": {},
   "source": [
    "## Dodawanie do jednego trapezu"
   ]
  },
  {
   "cell_type": "code",
   "execution_count": 2,
   "id": "f4315071ccad289e",
   "metadata": {
    "ExecuteTime": {
     "end_time": "2023-12-29T19:34:05.981757296Z",
     "start_time": "2023-12-29T19:34:05.976795247Z"
    }
   },
   "outputs": [],
   "source": [
    "def insertIntoOne(T : TrapezoidMap , trapezoid : Trapezoid, segment : Segment):\n",
    "    p, q = segment.left, segment.right\n",
    "    bottomLeft = trapezoid.bottomLeft\n",
    "    bottomRight = trapezoid.bottomRight\n",
    "    topLeft = trapezoid.topLeft\n",
    "    topRight = trapezoid.topRight\n",
    "    \n",
    "    left, right = None, None\n",
    "    top = Trapezoid(trapezoid.topSegment, segment, p, q)\n",
    "    bottom = Trapezoid(segment, trapezoid.bottomSegment, p, q)\n",
    "    \n",
    "    if trapezoid.leftPoint < p:\n",
    "        left = Trapezoid(trapezoid.topSegment, trapezoid.bottomSegment, trapezoid.leftPoint, p)\n",
    "        left.bottomLeft = bottomLeft\n",
    "        left.topLeft = topLeft\n",
    "        left.topRight = top\n",
    "        left.bottomRight = bottom\n",
    "        top.topLeft = left\n",
    "        bottom.bottomLeft = left\n",
    "        updateLeft(trapezoid, left)\n",
    "    else:\n",
    "        Section.updateX(p.x)\n",
    "        bottom.bottomLeft = bottomLeft\n",
    "        top.topLeft = topLeft\n",
    "        if bottomLeft:\n",
    "            bottomLeft.bottomRight = bottom\n",
    "            if bottomLeft.topSegment > segment:\n",
    "                bottomLeft.topRight = top\n",
    "                top.bottomLeft = bottomLeft\n",
    "        if topLeft:\n",
    "            topLeft.topRight = top\n",
    "            if segment > topLeft.bottomSegment:\n",
    "                topLeft.bottomRight = bottom\n",
    "                bottom.topLeft = topLeft\n",
    "                \n",
    "    if trapezoid.rightPoint > q:\n",
    "        right = Trapezoid(trapezoid.topSegment, trapezoid.bottomSegment, segment.rightPoint, trapezoid.rightPoint)\n",
    "        right.bottomRight = bottomRight\n",
    "        right.topRight = topRight\n",
    "        right.bottomLeft = bottom\n",
    "        right.topLeft = top\n",
    "        top.topRight = right\n",
    "        bottom.bottomRight = right\n",
    "        updateRight(trapezoid, right)\n",
    "    else:\n",
    "        Section.updateX(q.x)\n",
    "        bottom.bottomRight = bottomRight\n",
    "        top.topRight = topRight\n",
    "        if bottomRight:\n",
    "            bottomRight.bottomLeft = bottom\n",
    "            if bottomRight.topSegment > segment:\n",
    "                bottomRight.topLeft = top\n",
    "                top.bottomRight = bottomRight\n",
    "        if topRight:\n",
    "            topRight.topLeft = top\n",
    "            if segment > topRight.bottomSegment:\n",
    "                topRight.bottomLeft = bottom\n",
    "                bottom.topRight = topRight\n",
    "                \n",
    "    updateTreeOne(trapezoid, segment, left, top, bottom, right)"
   ]
  },
  {
   "cell_type": "markdown",
   "id": "d85bc957",
   "metadata": {},
   "source": [
    "## Dodawanie do wielu trapezów"
   ]
  },
  {
   "cell_type": "code",
   "execution_count": null,
   "id": "4d50a481",
   "metadata": {},
   "outputs": [],
   "source": [
    "def insertIntoMany (T: TrapezoidMap, trapezoids: list[Trapezoid], segment: Segment):\n",
    "    p, q = segment.left, segment.right\n",
    "    left, right = None, None\n",
    "    newTrapezoidsAbove = []\n",
    "    newTrapezoidsBelow = []\n",
    "    n = len(trapezoids)\n",
    "    first = trapezoids[0]\n",
    "    bottomLeft = first.bottomLeft\n",
    "    topLeft = first.topLeft\n",
    "    topRight = first.topRight\n",
    "    bottomRight = first.bottomRight\n",
    "    Segment.updateX(first.rightPoint.x)\n",
    "    \n",
    "    if s.isAbove(first.rightPoint):\n",
    "        top = Trapezoid(first.topSegment, segment, p, first.rightPoint)\n",
    "        bottom = Trapezoid(segment, first.bottomSegment, p, Point(Segment.x, segment.getY(Segment.x)))\n",
    "        merge = \"lower\"\n",
    "    else:\n",
    "        top = Trapezoid(first.topSegment, segment, p, Point(Segment.x, segment.getY(Segment.x)))\n",
    "        bottom = Trapezoid(s,first.lower,p,first.right_p)\n",
    "        merge = \"upper\"\n",
    "        \n",
    "    if first.leftPoint < p:\n",
    "        left = Trapezoid(first.topSegment, first.bottomSegment, first.leftPoint, p)\n",
    "        left.bottomLeft = bottomLeft\n",
    "        left.topLeft = topLeft\n",
    "        left.topRight = top\n",
    "        left.bottomRight = bottom\n",
    "        top.topLeft = left\n",
    "        bottom.bottomLeft = left\n",
    "        updateLeft(first, left)    \n",
    "    else:           \n",
    "        bottom.bottomLeft = bottomLeft\n",
    "        top.topLeft = topLeft\n",
    "        if bottomLeft:\n",
    "            bottomLeft.bottomRight = bottom\n",
    "            if bottomLeft.topSegment > segment:\n",
    "                bottomLeft.topRight = top\n",
    "                top.bottomLeft = bottomLeft\n",
    "        if topLeft:\n",
    "            topLeft.topRight = top\n",
    "            if segment > topLeft.bottomSegment:\n",
    "                topLeft.bottomRight = bottom\n",
    "                bottom.topLeft = topLeft\n",
    "                             \n",
    "    if trapezoids[1] == first.bottomRight:\n",
    "        top.topRight = topRight\n",
    "        if topRight:\n",
    "            topRight.topLeft = top\n",
    "    else:\n",
    "        bottom.bottomRight = bottomRight\n",
    "        if bottomRight:\n",
    "            bottomRight.bottomLeft = bottom\n",
    "    \n",
    "    newTrapezoidsAbove.append(top)\n",
    "    newTrapezoidsBelow.append(bottom)\n",
    "    \n",
    "    for i in range(1, n-1):\n",
    "        nextPoint = trapezoids[i].rightPoint\n",
    "        bottomLeft = trapezoids[i].bottomLeft\n",
    "        topLeft = trapezoids[i].topLeft\n",
    "        topRight = trapezoids[i].topRight\n",
    "        bottomRight = trapezoids[i].bottomRight\n",
    "        Segment.updateX(nextPoint.x)\n",
    "        \n",
    "        if segment.isAbove(nextPoint):\n",
    "            lowerRightPoint = Point(Segment.x, segment.getY(Segment.x))\n",
    "            if merge == \"upper\":\n",
    "                top.rightPoint = nextPoint\n",
    "                t = Trapezoid(segment, trapezoids[i].bottomSegment, bottom.rightPoint, lowerRightPoint)\n",
    "                bottom.topRight = t\n",
    "                t.topLeft = bottom\n",
    "                t.bottomLeft = bottomLeft\n",
    "                if bottomLeft:\n",
    "                    bottomLeft.bottomRight = t\n",
    "                top.topRight = topRight\n",
    "                if topRight:\n",
    "                    topRight.topLeft = top\n",
    "                bottom = t\n",
    "                newTrapezoidsBelow.append(bottom)\n",
    "            else:\n",
    "                bottom.rightPoint = lowerRightPoint\n",
    "                t = Trapezoid(trapezoids[i].topSegment, s, top.rightPoint, nextPoint)\n",
    "                top.bottomRight = t\n",
    "                t.bottomLeft = top\n",
    "                t.topLeft = topLeft\n",
    "                t.topRight = topRight\n",
    "                if topLeft:\n",
    "                    topLeft.topRight = t\n",
    "                if topRight:\n",
    "                    topRight.topLeft = t\n",
    "                top = t\n",
    "                newTrapezoidsAbove.append(top)\n",
    "            merge = \"lower\"   \n",
    "        else:\n",
    "            upperRightPoint = Point(Segment.x, segment.getY(Segment.x))\n",
    "            if merge == \"upper\":\n",
    "                top.rightPoint = upperRightPoint\n",
    "                t = Trapezoid(segment, trapezoids[i].bottomSegment, bottom.rightPoint, nextPoint)\n",
    "                bottom.topRight = t\n",
    "                t.topLeft = bottom\n",
    "                t.bottomLeft = bottomLeft\n",
    "                t.bottomRight = bottomRight\n",
    "                if bottomLeft:\n",
    "                    bottomLeft.bottomRight = t\n",
    "                if bottomRight:\n",
    "                    bottomRight.bottomLeft = t\n",
    "                bottom = t\n",
    "                newTrapezoidsBelow.append(bottom)\n",
    "            else:\n",
    "                bottom.rightPoint = nextPoint\n",
    "                t = Trapezoid(trapezoids[i].topSegment, segment, B.rightPoint, upperRightPoint)\n",
    "                top.bottomRight = t\n",
    "                t.bottomLeft = top\n",
    "                t.topLeft = topLeft\n",
    "                if topLeft:\n",
    "                    topLeft.topRight = t\n",
    "                bottom.bottomRight = bottomRight\n",
    "                if bottomRight:\n",
    "                    bottomRight.bottomLeft = bottom\n",
    "                top = t\n",
    "                newTrapezoidsAbove.append(top)\n",
    "            merge=\"upper\"\n",
    "            \n",
    "    last = trapezoids[n-1]\n",
    "    bottomLeft = last.bottomLeft\n",
    "    topLeft = last.topLeft\n",
    "    topRight = last.topRight\n",
    "    bottomRight = last.bottomRight\n",
    "    Segment.updateX(last.rightPoint)\n",
    "        \n",
    "    if merge == \"upper\":\n",
    "        top.rightPoint = q\n",
    "        t = Trapezoid(segment, last.bottomSegment, bottom.rightPoint, q)\n",
    "        bottom.topRight = t\n",
    "        t.topLeft = bottom\n",
    "        bottom = t\n",
    "        newTrapezoidsBelow.append(bottom)\n",
    "    else:\n",
    "        bottom.rightPoint = q\n",
    "        t = Trapezoid(last.topSegment, segment, top.rightPoint, q)\n",
    "        top.bottomRight = t\n",
    "        t.bottomLeft = top\n",
    "        top = t\n",
    "        newTrapezoidsAbove.append(top)\n",
    "        \n",
    "    if last.rightPoint > q:\n",
    "        right = Trapezoid(last.topSegment, last.bottomSegment, q, last.rightPoint)\n",
    "        right.bottomLeft = bottom\n",
    "        right.topLeft = top\n",
    "        right.topRight = topRight\n",
    "        right.bottomRight = bottomRight\n",
    "        top.topRight = right\n",
    "        bottom.bottomRight = right\n",
    "        updateRight(last, right)\n",
    "    else:\n",
    "        top.topRight = topRight\n",
    "        bottom.bottomRight = bottomRight\n",
    "        if bottomRight:\n",
    "            bottomRight.bottomLeft = bottom\n",
    "            if bottomRight.topSegment > segment:\n",
    "                bottomRight.topLeft = top\n",
    "                top.bottomRight = bottomRight\n",
    "        if topRight:\n",
    "            topRight.topLeft = top\n",
    "            if segment > topRight.bottomSegment:\n",
    "                topRight.bottomLeft = bottom\n",
    "                bottom.topRight = topRight\n",
    "                \n",
    "    if last == trapezoids[n-2].topRight:\n",
    "        bottom.bottomLeft = bottomLeft\n",
    "        if bottomLeft:\n",
    "            bottomLeft.bottomRight = bottom\n",
    "    else:\n",
    "        top.topLeft = topLeft\n",
    "        if topLeft:\n",
    "            topLeft.topRight = top\n",
    "            \n",
    "    updateTreeMany(trapezoids, segment, newTrapezoidsAbove, newTrapezoidsBelow, left, right)"
   ]
  },
  {
   "cell_type": "markdown",
   "id": "6612dac4bb1562dc",
   "metadata": {},
   "source": [
    "## Tworzenie mapy trapezowej wraz z wizualizacją\n",
    "to do kiedy będzie zrobiona wizualizacja. Zostawiłem tę część poniżej, ale pewnie będzie jeszcze przerobiona"
   ]
  },
  {
   "cell_type": "code",
   "execution_count": 4,
   "id": "3747c7c5b6fdcf35",
   "metadata": {
    "ExecuteTime": {
     "end_time": "2023-12-29T20:12:58.000858061Z",
     "start_time": "2023-12-29T20:12:43.553999650Z"
    }
   },
   "outputs": [
    {
     "name": "stdout",
     "output_type": "stream",
     "text": [
      "Added line segments:\n",
      "\n",
      "((0.096049783549784, 0.3571428571428572), (8.808170995670999, 0.9794372294372296))\n",
      "((1.1783008658008667, 5.416666666666667), (5.29085497835498, 1.304112554112554))\n",
      "((4.857954545454546, 5.1190476190476195), (8.267045454545457, 8.501082251082252))\n",
      "((6.373106060606061, 5.2272727272727275), (9.295183982683984, 4.117965367965368))\n",
      "((0.258387445887446, 8.176406926406928), (4.45211038961039, 8.230519480519481))\n"
     ]
    },
    {
     "data": {
      "image/png": "[encoded data removed]",
      "text/plain": [
       "<Figure size 660x480 with 1 Axes>"
      ]
     },
     "metadata": {},
     "output_type": "display_data"
    }
   ],
   "source": [
    "root = tk.Tk()\n",
    "plotter = Plotter(root)\n",
    "tk.mainloop()"
   ]
  },
  {
   "cell_type": "code",
   "execution_count": 6,
   "id": "ec0419938910e7d0",
   "metadata": {
    "ExecuteTime": {
     "end_time": "2023-12-29T20:21:03.999567165Z",
     "start_time": "2023-12-29T20:21:03.958770693Z"
    }
   },
   "outputs": [],
   "source": [
    "l1 = [\n",
    "((1.3560192461466352, 1.232249703587283), (6.939607632282793, 2.1283811729671602)),\n",
    "((1.3560192461466352, 7.119144125513552), (5.5057972812749885, 7.298370419389528))\n",
    "]\n",
    "\n",
    "sg = createMap(l1)"
   ]
  },
  {
   "cell_type": "code",
   "execution_count": 7,
   "id": "d6a4151635c8ea4f",
   "metadata": {
    "ExecuteTime": {
     "end_time": "2023-12-29T20:15:15.439472815Z",
     "start_time": "2023-12-29T20:15:13.415492337Z"
    }
   },
   "outputs": [
    {
     "data": {
      "image/png": "[encoded data removed]",
      "text/plain": [
       "<Figure size 660x480 with 1 Axes>"
      ]
     },
     "metadata": {},
     "output_type": "display_data"
    }
   ],
   "source": [
    "r1 = tk.Tk()\n",
    "p1 = Plotter(r1)\n",
    "tk.mainloop()"
   ]
  }
 ],
 "metadata": {
  "kernelspec": {
   "display_name": "Python 3 (ipykernel)",
   "language": "python",
   "name": "python3"
  },
  "language_info": {
   "codemirror_mode": {
    "name": "ipython",
    "version": 3
   },
   "file_extension": ".py",
   "mimetype": "text/x-python",
   "name": "python",
   "nbconvert_exporter": "python",
   "pygments_lexer": "ipython3",
   "version": "3.9.18"
  }
 },
 "nbformat": 4,
 "nbformat_minor": 5
}
