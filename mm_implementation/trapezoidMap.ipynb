{
 "cells": [
  {
   "cell_type": "code",
   "execution_count": 1,
   "outputs": [],
   "source": [
    "# Importy\n",
    "from util import *\n",
    "from DataStructures import *\n",
    "import tkinter as tk\n",
    "from plotter import Plotter\n",
    "from vis_bit.main import Visualizer"
   ],
   "metadata": {
    "collapsed": false,
    "ExecuteTime": {
     "end_time": "2023-12-29T19:34:05.971616529Z",
     "start_time": "2023-12-29T19:34:05.386430448Z"
    }
   },
   "id": "ba01bbae24998e8b"
  },
  {
   "cell_type": "markdown",
   "source": [
    "# Dodawanie do jednego trapezu"
   ],
   "metadata": {
    "collapsed": false
   },
   "id": "3bb8b01444c878e7"
  },
  {
   "cell_type": "code",
   "execution_count": 2,
   "outputs": [],
   "source": [
    "def insertIntoOne(sg : TrapezoidMap , trapezoid : Trapezoid, segment : Segment):\n",
    "    left = Trapezoid(trapezoid.topSegment, trapezoid.bottomSegment, trapezoid.leftPoint, segment.leftPoint)\n",
    "    top = Trapezoid(trapezoid.topSegment, segment, segment.leftPoint, segment.rightPoint)\n",
    "    bottom = Trapezoid(segment, trapezoid.bottomSegment, segment.leftPoint, segment.rightPoint)\n",
    "    right = Trapezoid(trapezoid.topSegment, trapezoid.bottomSegment, segment.rightPoint, trapezoid.rightPoint)\n",
    "    \n",
    "    left.topRight = top\n",
    "    left.topLeft = trapezoid.topLeft\n",
    "    left.bottomRight = bottom\n",
    "    left.bottomLeft = trapezoid.bottomLeft\n",
    "    \n",
    "    top.topRight = right\n",
    "    top.topLeft = left\n",
    "    top.bottomRight = right\n",
    "    top.bottomLeft = left\n",
    "    \n",
    "    bottom.topRight = right\n",
    "    bottom.topLeft = left\n",
    "    bottom.bottomLeft = left\n",
    "    bottom.bottomRight = right\n",
    "    \n",
    "    right.topRight = trapezoid.topRight\n",
    "    right.topLeft = top\n",
    "    right.bottomRight = trapezoid.bottomRight\n",
    "    right.bottomLeft = bottom\n",
    "    \n",
    "    updateLeft(trapezoid, left)\n",
    "    updateRight(trapezoid, right)\n",
    "    \n",
    "    leftNode = Tnode(left)\n",
    "    topNode = Tnode(top)\n",
    "    bottomNode = Tnode(bottom)\n",
    "    rightNode = Tnode(right)\n",
    "    \n",
    "    snode = Snode(segment, topNode, bottomNode)\n",
    "    qnode = Pnode(segment.rightPoint, snode, rightNode)\n",
    "    pnode = Pnode(segment.leftPoint, leftNode, qnode)\n",
    "    trapezoid.node.replaceNode(sg, pnode)\n",
    "    \n",
    "    return [left, top, bottom, right]\n",
    "    "
   ],
   "metadata": {
    "collapsed": false,
    "ExecuteTime": {
     "end_time": "2023-12-29T19:34:05.981757296Z",
     "start_time": "2023-12-29T19:34:05.976795247Z"
    }
   },
   "id": "f4315071ccad289e"
  },
  {
   "cell_type": "code",
   "execution_count": 3,
   "outputs": [],
   "source": [
    "def insertIntoMany(sg: TrapezoidMap, intersects: list[Trapezoid], segment: Segment):\n",
    "    upperMid = None\n",
    "    lowerMid = None\n",
    "    merge = False\n",
    "    \n",
    "    added = []\n",
    "    \n",
    "    for trap in intersects:\n",
    "        if trap == intersects[0]:\n",
    "            left = Trapezoid(trap.topSegment, trap.bottomSegment, trap.leftPoint, segment.leftPoint)\n",
    "            \n",
    "            if segment.isAbove(trap.rightPoint):\n",
    "                upperMid = Trapezoid(trap.topSegment, segment, segment.leftPoint, left.rightPoint)\n",
    "                lowerMid = Trapezoid(segment, trap.bottomSegment, segment.leftPoint, None)\n",
    "                merge = False\n",
    "            else:\n",
    "                upperMid = Trapezoid(trap.topSegment, segment, segment.leftPoint, None)\n",
    "                lowerMid = Trapezoid(segment, trap.bottomSegment, segment.leftPoint, trap.rightPoint)\n",
    "                merge = True\n",
    "            \n",
    "            left.topRight = upperMid\n",
    "            left.topLeft = trap.topLeft\n",
    "            left.bottomRight = lowerMid\n",
    "            left.bottomLeft = trap.bottomLeft\n",
    "            \n",
    "            if merge:\n",
    "                upperMid.topRight = trap.topRight\n",
    "                upperMid.bottomRight = trap.topRight\n",
    "                lowerMid.topRight = trap.topRight\n",
    "                lowerMid.bottomRight = trap.bottomRight\n",
    "            else:\n",
    "                upperMid.topRight = trap.topRight\n",
    "                upperMid.bottomRight = trap.bottomRight\n",
    "                lowerMid.topRight = trap.bottomRight\n",
    "                lowerMid.bottomRight = trap.bottomRight\n",
    "            upperMid.topLeft = left\n",
    "            upperMid.bottomLeft = left\n",
    "            lowerMid.topLeft = left\n",
    "            lowerMid.bottomLeft = left\n",
    "            \n",
    "            updateLeft(trap, left)\n",
    "            \n",
    "            if merge:\n",
    "                updateRight(trap, lowerMid)\n",
    "            else:\n",
    "                updateRight(trap, upperMid)\n",
    "                \n",
    "            added.append(left)\n",
    "            added.append(upperMid)\n",
    "            added.append(lowerMid)\n",
    "            \n",
    "            leftNode = Tnode(left)\n",
    "            upperMidNode = Tnode(upperMid)\n",
    "            lowerMidNode = Tnode(lowerMid)  \n",
    "            snode = Snode(segment, upperMidNode, lowerMidNode)\n",
    "            pnode = Pnode(segment.leftPoint, leftNode, snode)\n",
    "            trap.node.replaceNode(sg, pnode)\n",
    "        \n",
    "        elif trap == intersects[-1]:\n",
    "            right = Trapezoid(trap.topSegment, trap.bottomSegment, segment.rightPoint, trap.rightPoint)\n",
    "            if merge:\n",
    "                upperMid.rightPoint = segment.rightPoint\n",
    "                lowerMid = Trapezoid(segment, trap.bottomSegment, trap.leftPoint, segment.rightPoint)\n",
    "                upperMidNode = upperMid.node\n",
    "                lowerMidNode = Tnode(lowerMid)\n",
    "                \n",
    "            else:\n",
    "                upperMid = Trapezoid(trap.topSegment, segment, trap.leftPoint, segment.rightPoint)\n",
    "                lowerMid.rightPoint = segment.rightPoint\n",
    "                upperMidNode = Tnode(upperMid)\n",
    "                lowerMidNode = lowerMid.node\n",
    "            \n",
    "            right.topRight = trap.topRight\n",
    "            right.topLeft = upperMid\n",
    "            right.bottomRight = trap.bottomRight\n",
    "            right.bottomLeft = lowerMid\n",
    "            \n",
    "            upperMid.topRight = right\n",
    "            upperMid.bottomRight = right\n",
    "            lowerMid.topRight = right\n",
    "            lowerMid.bottomRight = right\n",
    "            \n",
    "            if merge:\n",
    "                lowerMid.topLeft = trap.topLeft\n",
    "                lowerMid.bottomLeft = trap.bottomLeft\n",
    "            else:\n",
    "                upperMid.topLeft = trap.topLeft\n",
    "                upperMid.bottomLeft = trap.bottomLeft\n",
    "            updateRight(trap, right)\n",
    "            \n",
    "            if merge:\n",
    "                updateLeft(trap, lowerMid)\n",
    "            else:\n",
    "                updateLeft(trap, upperMid)\n",
    "            \n",
    "            added.append(upperMid)\n",
    "            added.append(lowerMid)\n",
    "            added.append(right)\n",
    "            \n",
    "            rightNode = Tnode(right)\n",
    "            snode = Snode(segment, upperMidNode, lowerMidNode)\n",
    "            qnode = Pnode(segment.rightPoint, snode, rightNode)\n",
    "            trap.node.replaceNode(sg, qnode)\n",
    "            \n",
    "        else:\n",
    "            flag = False\n",
    "            if merge:\n",
    "                oldLow = lowerMid\n",
    "                lowerMid = Trapezoid(segment, trap.bottomSegment, trap.leftPoint, None)\n",
    "                upperMidNode = upperMid.node\n",
    "                lowerMidNode = Tnode(lowerMid)\n",
    "            else:\n",
    "                oldUpper = upperMid\n",
    "                upperMid = Trapezoid(trap.topSegment, segment, trap.leftPoint, None)\n",
    "                upperMidNode = Tnode(upperMid)\n",
    "                lowerMidNode = lowerMid.node\n",
    "            if segment.isAbove(trap.rightPoint):\n",
    "                upperMid.rightPoint = trap.rightPoint\n",
    "                if merge:\n",
    "                    flag = True\n",
    "                merge = False\n",
    "                added.append(upperMid)\n",
    "            else:\n",
    "                lowerMid.rightPoint = trap.rightPoint\n",
    "                if not merge:\n",
    "                    flag = True\n",
    "                merge = True\n",
    "                added.append(lowerMid)\n",
    "            \n",
    "            if merge:\n",
    "                if flag:\n",
    "                    upperMid.topRight = trap.topRight\n",
    "                    upperMid.bottomRight = trap.topRight\n",
    "                    upperMid.topLeft = trap.topLeft\n",
    "                    upperMid.bottomLeft = oldUpper\n",
    "                    \n",
    "                    lowerMid.topRight = trap.topRight\n",
    "                    lowerMid.bottomRight = trap.bottomRight\n",
    "                    \n",
    "                    updateLeft(trap, upperMid)\n",
    "                    updateRight(trap, lowerMid)\n",
    "                else:\n",
    "                    upperMid.topRight = trap.topRight\n",
    "                    upperMid.bottomRight = trap.topRight\n",
    "                    \n",
    "                    lowerMid.topRight = trap.topRight\n",
    "                    lowerMid.bottomRight = trap.bottomRight\n",
    "                    lowerMid.topLeft = oldLow\n",
    "                    lowerMid.bottomLeft = trap.bottomLeft\n",
    "                    \n",
    "                    updateLeft(trap, lowerMid)\n",
    "                    updateRight(trap, lowerMid)\n",
    "            else:\n",
    "                if flag:\n",
    "                    upperMid.topRight = trap.topRight\n",
    "                    upperMid.bottomRight = trap.bottomRight\n",
    "                    \n",
    "                    lowerMid.topRight = trap.bottomRight\n",
    "                    lowerMid.bottomRight = trap.bottomRight\n",
    "                    lowerMid.topLeft = oldLow\n",
    "                    lowerMid.bottomLeft = trap.bottomLeft\n",
    "                    \n",
    "                    updateLeft(trap, lowerMid)\n",
    "                    updateRight(trap, upperMid)\n",
    "                else:\n",
    "                    upperMid.topRight = trap.topRight\n",
    "                    upperMid.topLeft = trap.topLeft\n",
    "                    upperMid.bottomRight = trap.bottomRight\n",
    "                    upperMid.bottomLeft = oldUpper\n",
    "                    \n",
    "                    lowerMid.topRight = trap.bottomRight\n",
    "                    lowerMid.bottomRight = trap.bottomRight\n",
    "                    \n",
    "                    updateLeft(trap, upperMid)\n",
    "                    updateRight(trap, upperMid)\n",
    "                    \n",
    "            snode = Snode(segment, upperMidNode, lowerMidNode)\n",
    "            trap.node.replaceNode(sg, snode)\n",
    "    \n",
    "    unique = []\n",
    "    for trap in added:\n",
    "        if trap not in unique:\n",
    "            unique.append(trap)\n",
    "            \n",
    "    return unique"
   ],
   "metadata": {
    "collapsed": false,
    "ExecuteTime": {
     "end_time": "2023-12-29T19:34:06.028499620Z",
     "start_time": "2023-12-29T19:34:05.979805921Z"
    }
   },
   "id": "481ad8bb22e57af3"
  },
  {
   "cell_type": "markdown",
   "source": [
    "# Creating trapezoid map, together with the process visualization\n",
    "* In - list of lines\n",
    "* Out - TrapezoidMap, scenes"
   ],
   "metadata": {
    "collapsed": false
   },
   "id": "6612dac4bb1562dc"
  },
  {
   "cell_type": "code",
   "execution_count": 36,
   "outputs": [
    {
     "data": {
      "text/plain": "<Figure size 945x942 with 1 Axes>",
      "image/png": "[encoded data removed]"
     },
     "metadata": {},
     "output_type": "display_data"
    }
   ],
   "source": [
    "root = tk.Tk()\n",
    "plotter = Plotter(root)\n",
    "tk.mainloop()"
   ],
   "metadata": {
    "collapsed": false,
    "ExecuteTime": {
     "end_time": "2023-12-29T20:12:58.000858061Z",
     "start_time": "2023-12-29T20:12:43.553999650Z"
    }
   },
   "id": "3747c7c5b6fdcf35"
  },
  {
   "cell_type": "code",
   "execution_count": 37,
   "outputs": [],
   "source": [
    "def createMap(lines):\n",
    "\n",
    "    lineSegments = []    \n",
    "    for i in permute(lines):\n",
    "        \n",
    "        p1 = Point(i[0][0], i[0][1])\n",
    "        p2 = Point(i[1][0], i[1][1])\n",
    "        lineSegments.append(Segment(p1, p2))\n",
    "    \n",
    "    rootTrap = createOuter(lines)\n",
    "    rootNode = Tnode(rootTrap)\n",
    "    sg = TrapezoidMap(rootNode)\n",
    "    \n",
    "    for segment in lineSegments:\n",
    "        \n",
    "        intersections = []\n",
    "        start = sg.query(segment.leftPoint)\n",
    "        end = sg.query(segment.rightPoint)\n",
    "        findIntersectTrapezoids(start, segment, intersections)\n",
    "        \n",
    "        if start == end:\n",
    "            added = insertIntoOne(sg, intersections[0], segment)\n",
    "        else:\n",
    "            added = insertIntoMany(sg, intersections, segment)\n",
    "              \n",
    "    \n",
    "    return sg\n",
    "        "
   ],
   "metadata": {
    "collapsed": false,
    "ExecuteTime": {
     "end_time": "2023-12-29T20:14:14.440949530Z",
     "start_time": "2023-12-29T20:14:14.393851591Z"
    }
   },
   "id": "8bae805a1d127124"
  },
  {
   "cell_type": "code",
   "execution_count": 43,
   "outputs": [],
   "source": [
    "l1 = [\n",
    "((1.3560192461466352, 1.232249703587283), (6.939607632282793, 2.1283811729671602)),\n",
    "((1.3560192461466352, 7.119144125513552), (5.5057972812749885, 7.298370419389528))\n",
    "]\n",
    "\n",
    "sg = createMap(l1)"
   ],
   "metadata": {
    "collapsed": false,
    "ExecuteTime": {
     "end_time": "2023-12-29T20:21:03.999567165Z",
     "start_time": "2023-12-29T20:21:03.958770693Z"
    }
   },
   "id": "ec0419938910e7d0"
  },
  {
   "cell_type": "code",
   "execution_count": 42,
   "outputs": [
    {
     "data": {
      "text/plain": "<Figure size 945x942 with 1 Axes>",
      "image/png": "[encoded data removed]"
     },
     "metadata": {},
     "output_type": "display_data"
    }
   ],
   "source": [
    "r1 = tk.Tk()\n",
    "p1 = Plotter(r1)\n",
    "tk.mainloop()"
   ],
   "metadata": {
    "collapsed": false,
    "ExecuteTime": {
     "end_time": "2023-12-29T20:15:15.439472815Z",
     "start_time": "2023-12-29T20:15:13.415492337Z"
    }
   },
   "id": "d6a4151635c8ea4f"
  },
  {
   "cell_type": "code",
   "execution_count": 6,
   "outputs": [],
   "source": [],
   "metadata": {
    "collapsed": false,
    "ExecuteTime": {
     "end_time": "2023-12-29T19:34:08.368879114Z",
     "start_time": "2023-12-29T19:34:08.339820036Z"
    }
   },
   "id": "2f7788ce5a2a44ae"
  }
 ],
 "metadata": {
  "kernelspec": {
   "display_name": "Python 3",
   "language": "python",
   "name": "python3"
  },
  "language_info": {
   "codemirror_mode": {
    "name": "ipython",
    "version": 2
   },
   "file_extension": ".py",
   "mimetype": "text/x-python",
   "name": "python",
   "nbconvert_exporter": "python",
   "pygments_lexer": "ipython2",
   "version": "2.7.6"
  }
 },
 "nbformat": 4,
 "nbformat_minor": 5
}
